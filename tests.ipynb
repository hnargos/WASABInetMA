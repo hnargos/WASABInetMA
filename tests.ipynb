{
 "cells": [
  {
   "cell_type": "code",
   "execution_count": 1,
   "metadata": {},
   "outputs": [],
   "source": [
    "# Standard library imports\n",
    "import sys\n",
    "import os\n",
    "import time\n",
    "#import pickle\n",
    "#import pathlib\n",
    "from typing import Optional, Tuple, Union\n",
    "from copy import deepcopy\n",
    "import glob\n",
    "import traceback\n",
    "\n",
    "# Third party imports\n",
    "import yaml\n",
    "import numpy as np\n",
    "import matplotlib.pyplot as plt\n",
    "#import subprocess\n",
    "import torch.cuda as cuda\n",
    "import torch as t\n",
    "from torch import load, save\n",
    "from sklearn import linear_model\n",
    "\n",
    "# own scripts\n",
    "from wasabi.data import Data\n",
    "from wasabi.trainer import Trainer\n",
    "from wasabi.auxiliary_functions import load_config, save_config, load_config_from_model\n",
    "from wasabi.loss import GNLL\n",
    "from wasabi.eval_wasabi import EvalWasabi\n",
    "%config Completer.use_jedi = False"
   ]
  },
  {
   "cell_type": "code",
   "execution_count": 2,
   "metadata": {},
   "outputs": [],
   "source": [
    "# number of trainingsepochs\n",
    "n_epochs = 1\n",
    "config = {}"
   ]
  },
  {
   "cell_type": "markdown",
   "metadata": {},
   "source": [
    "# fill config"
   ]
  },
  {
   "cell_type": "code",
   "execution_count": 3,
   "metadata": {},
   "outputs": [
    {
     "data": {
      "text/plain": [
       "{'OUTPUT_DIR': 'output/tests',\n",
       " 'VAL_FREQ': 1,\n",
       " 'AUTOSAVE_FREQ': 1,\n",
       " 'FORCE_CPUGPU': 'cpu',\n",
       " 'ABORT_ON_OVERFIT': False,\n",
       " 'ABORT_AFTER_N_OVERFIT_EPOCHS': 5,\n",
       " 'ABORT_ON_SLOW_TRAIN': 0.1,\n",
       " 'ABORT_ON_TIME': 3600,\n",
       " 'ABORT_ON_LOSS': -11.0,\n",
       " 'DATA_X_PATH': 'data/testdata/testdata_X_train.pt',\n",
       " 'DATA_Y_PATH': 'data/testdata/testdata_y_train.pt',\n",
       " 'OPTIMIZER': 'Adam',\n",
       " 'LOSS_FKT': 'GNLL',\n",
       " 'BATCH_SIZE': 128,\n",
       " 'DATA_SPLIT': 0.1,\n",
       " 'TYPE_PARAMS': ['dB0', 'B1', 'T1', 'T2'],\n",
       " 'NORM_TGTS': {'dB0': [-0.5, 0.5],\n",
       "  'B1': [0.5, 1.5],\n",
       "  'T1': [0.0, 4.0],\n",
       "  'T2': [0.0, 2.0]},\n",
       " 'NET': 'CUSTOM',\n",
       " 'LAYERS': ['linear', 'elu', 'linear', 'elu', 'linear'],\n",
       " 'N_NEURONS': [31, 100, 100, 8],\n",
       " 'LAYER_KWARGS': {0: {'bias': True}, 2: {'bias': True}, 4: {'bias': True}},\n",
       " 'NOISE': 'gamma_std',\n",
       " 'CONFIG_NAME': 'test_config'}"
      ]
     },
     "execution_count": 3,
     "metadata": {},
     "output_type": "execute_result"
    }
   ],
   "source": [
    "config['OUTPUT_DIR'] = 'output/tests'\n",
    "config['VAL_FREQ'] = 1\n",
    "config['AUTOSAVE_FREQ'] = 1\n",
    "config['FORCE_CPUGPU'] = 'cpu'\n",
    "config['ABORT_ON_OVERFIT'] = False\n",
    "config['ABORT_AFTER_N_OVERFIT_EPOCHS'] = 5\n",
    "config['ABORT_ON_SLOW_TRAIN'] = 0.1\n",
    "config['ABORT_ON_TIME'] = 3600\n",
    "config['ABORT_ON_LOSS'] = -11.\n",
    "config['DATA_X_PATH'] = 'data/testdata/testdata_X_train.pt'\n",
    "config['DATA_Y_PATH'] = 'data/testdata/testdata_y_train.pt'\n",
    "config['OPTIMIZER'] = 'Adam'\n",
    "config['LOSS_FKT'] = 'GNLL'\n",
    "config['BATCH_SIZE'] = 128\n",
    "config['DATA_SPLIT'] = 0.1\n",
    "config['TYPE_PARAMS'] = ['dB0','B1','T1','T2']\n",
    "config['NORM_TGTS'] = {'dB0': [-0.5, 0.5], 'B1': [0.5, 1.5], 'T1': [0., 4.], 'T2': [0., 2.]}\n",
    "config['NET'] = 'CUSTOM'\n",
    "config['LAYERS'] = ['linear', 'elu', 'linear', 'elu', 'linear']\n",
    "config['N_NEURONS'] = [31, 100, 100, 8]\n",
    "config['LAYER_KWARGS'] = {0: {'bias': True}, 2: {'bias': True}, 4: {'bias': True}}\n",
    "config['NOISE'] = 'gamma_std'\n",
    "config['CONFIG_NAME'] = 'test_config'\n",
    "config"
   ]
  },
  {
   "cell_type": "markdown",
   "metadata": {},
   "source": [
    "# check if training runs through"
   ]
  },
  {
   "cell_type": "code",
   "execution_count": 4,
   "metadata": {},
   "outputs": [
    {
     "name": "stderr",
     "output_type": "stream",
     "text": [
      "100%|#################| 10/10 [00:02<00:00,  4.39it/s, adding noise =gamma type]\n",
      "100%|##| 2/2 [00:05<00:00,  2.99s/it, sum loss=1.62, val sum loss=1.46, epoch=2]"
     ]
    },
    {
     "name": "stdout",
     "output_type": "stream",
     "text": [
      "\u001b[0;30;42m GOOD \u001b[0m\n"
     ]
    },
    {
     "name": "stderr",
     "output_type": "stream",
     "text": [
      "\n"
     ]
    }
   ],
   "source": [
    "try:\n",
    "    config_tmp = deepcopy(config)\n",
    "    data = Data()\n",
    "    data.load_data_tensor(config_tmp, printing=False)\n",
    "    trainer = Trainer(data)\n",
    "    trainer.train(2)\n",
    "    \n",
    "    del data, trainer\n",
    "    \n",
    "    print(\"\\033[0;30;42m GOOD \\033[0m\")\n",
    "except:\n",
    "    traceback.print_exc()\n",
    "    print(\"\\033[0;30;41m ERROR \\033[0m\")"
   ]
  },
  {
   "cell_type": "markdown",
   "metadata": {},
   "source": [
    "# check if training with MSELoss runs through"
   ]
  },
  {
   "cell_type": "code",
   "execution_count": 5,
   "metadata": {},
   "outputs": [
    {
     "name": "stderr",
     "output_type": "stream",
     "text": [
      "100%|#################| 10/10 [00:02<00:00,  3.80it/s, adding noise =gamma type]\n",
      "100%|#| 2/2 [00:06<00:00,  3.25s/it, sum loss=0.843, val sum loss=0.756, epoch=2"
     ]
    },
    {
     "name": "stdout",
     "output_type": "stream",
     "text": [
      "\u001b[0;30;42m GOOD \u001b[0m\n"
     ]
    },
    {
     "name": "stderr",
     "output_type": "stream",
     "text": [
      "\n"
     ]
    }
   ],
   "source": [
    "try:\n",
    "    config_tmp = deepcopy(config)\n",
    "    config_tmp['LOSS_FKT'] = 'MSELoss'\n",
    "    config_tmp['N_NEURONS'][-1] = 4\n",
    "    data = Data()\n",
    "    data.load_data_tensor(config_tmp, printing=False)\n",
    "    trainer = Trainer(data)\n",
    "    trainer.train(2)\n",
    "    \n",
    "    del data, trainer, config_tmp\n",
    "    \n",
    "    print(\"\\033[0;30;42m GOOD \\033[0m\")\n",
    "except:\n",
    "    traceback.print_exc()\n",
    "    print(\"\\033[0;30;41m ERROR \\033[0m\")"
   ]
  },
  {
   "cell_type": "markdown",
   "metadata": {},
   "source": [
    "# check if training with MSELoss with kwargs runs through"
   ]
  },
  {
   "cell_type": "code",
   "execution_count": 6,
   "metadata": {},
   "outputs": [
    {
     "name": "stderr",
     "output_type": "stream",
     "text": [
      "100%|#################| 10/10 [00:02<00:00,  3.57it/s, adding noise =gamma type]\n",
      "100%|#| 2/2 [00:07<00:00,  3.52s/it, sum loss=0.852, val sum loss=0.784, epoch=2"
     ]
    },
    {
     "name": "stdout",
     "output_type": "stream",
     "text": [
      "\u001b[0;30;42m GOOD \u001b[0m\n"
     ]
    },
    {
     "name": "stderr",
     "output_type": "stream",
     "text": [
      "\n"
     ]
    }
   ],
   "source": [
    "try:\n",
    "    config_tmp = deepcopy(config)\n",
    "    config_tmp['LOSS_FKT'] = {'FCT': 'MSELoss', 'kwargs': {'reduction': 'sum'}}\n",
    "    config_tmp['N_NEURONS'][-1] = 4\n",
    "    data = Data()\n",
    "    data.load_data_tensor(config_tmp, printing=False)\n",
    "    trainer = Trainer(data)\n",
    "    trainer.train(2)\n",
    "    \n",
    "    del data, trainer, config_tmp\n",
    "    \n",
    "    print(\"\\033[0;30;42m GOOD \\033[0m\")\n",
    "except:\n",
    "    traceback.print_exc()\n",
    "    print(\"\\033[0;30;41m ERROR \\033[0m\")"
   ]
  },
  {
   "cell_type": "markdown",
   "metadata": {},
   "source": [
    "# test load_config()"
   ]
  },
  {
   "cell_type": "code",
   "execution_count": 7,
   "metadata": {},
   "outputs": [
    {
     "name": "stdout",
     "output_type": "stream",
     "text": [
      "\u001b[0;30;42m GOOD \u001b[0m\n"
     ]
    }
   ],
   "source": [
    "try:\n",
    "    # check for correct name loading\n",
    "    tmp_config = load_config('doc/net_config_explanation.yaml')\n",
    "    assert tmp_config['CONFIG_NAME'] == 'config123'\n",
    "    \n",
    "    # check for correct generation from filename\n",
    "    tmp_config = load_config('output/tests/tes.t_c.onfig.yaml')\n",
    "    assert tmp_config['CONFIG_NAME']=='tes.t_c.onfig'\n",
    "    \n",
    "    del tmp_config\n",
    "    print(\"\\033[0;30;42m GOOD \\033[0m\")\n",
    "except:\n",
    "    traceback.print_exc()\n",
    "    print(\"\\033[0;30;41m ERROR \\033[0m\")"
   ]
  },
  {
   "cell_type": "markdown",
   "metadata": {},
   "source": [
    "# test data._set_config()"
   ]
  },
  {
   "cell_type": "code",
   "execution_count": 8,
   "metadata": {},
   "outputs": [
    {
     "name": "stdout",
     "output_type": "stream",
     "text": [
      "\u001b[0;30;42m GOOD \u001b[0m\n"
     ]
    }
   ],
   "source": [
    "try:\n",
    "    # check if config is set correctly given a dict\n",
    "    data = Data()\n",
    "    data._set_config(deepcopy(config))\n",
    "    assert data.config == config\n",
    "\n",
    "    # check if config is set correctly given a model path\n",
    "    data = Data()\n",
    "    data._set_config('output/tests/test_config_best_model_save.pt')\n",
    "    config_tmp = load_config_from_model('output/tests/test_config_best_model_save.pt')\n",
    "    assert data.config == config_tmp\n",
    "\n",
    "    # check if config is set correctly given a config path\n",
    "    data = Data()\n",
    "    data._set_config('output/tests/tes.t_c.onfig.yaml')\n",
    "    config_tmp = load_config('output/tests/tes.t_c.onfig.yaml')\n",
    "    assert data.config == config_tmp\n",
    "    \n",
    "    try:\n",
    "        data = Data()\n",
    "        data._set_config('output/tests/tes.t_c.onfig.yam')\n",
    "    except ValueError:\n",
    "        # all is well\n",
    "        pass\n",
    "\n",
    "    try:\n",
    "        data = Data()\n",
    "        data._set_config(3)\n",
    "    except TypeError:\n",
    "        # all is well\n",
    "        pass\n",
    "\n",
    "    \n",
    "    del data\n",
    "    print(\"\\033[0;30;42m GOOD \\033[0m\")\n",
    "except:\n",
    "    traceback.print_exc()\n",
    "    print(\"\\033[0;30;41m ERROR \\033[0m\")"
   ]
  },
  {
   "cell_type": "markdown",
   "metadata": {},
   "source": [
    "# test rng"
   ]
  },
  {
   "cell_type": "code",
   "execution_count": 9,
   "metadata": {
    "scrolled": true
   },
   "outputs": [
    {
     "name": "stderr",
     "output_type": "stream",
     "text": [
      "100%|#################| 10/10 [00:02<00:00,  3.39it/s, adding noise =gamma type]"
     ]
    },
    {
     "name": "stdout",
     "output_type": "stream",
     "text": [
      "\u001b[0;30;42m GOOD \u001b[0m\n"
     ]
    },
    {
     "name": "stderr",
     "output_type": "stream",
     "text": [
      "\n"
     ]
    }
   ],
   "source": [
    "try:\n",
    "    tmp_config = deepcopy(config)\n",
    "    del tmp_config['NOISE']\n",
    "\n",
    "    # without noise\n",
    "    data = Data()\n",
    "    data.load_data_tensor(tmp_config, printing=False)\n",
    "    x1_shape, y1_shape = data.raw_data[0].shape, data.raw_data[1].shape\n",
    "    raw1 = data.raw_data[0]\n",
    "    std1x = data.raw_data[0].std()\n",
    "    std1y = data.raw_data[1].std()\n",
    "\n",
    "    # with noise\n",
    "    tmp_config = deepcopy(config)\n",
    "    data = Data()\n",
    "    data.load_data_tensor(tmp_config, printing=False)\n",
    "    x2_shape, y2_shape = data.raw_data[0].shape, data.raw_data[1].shape\n",
    "    raw2 = data.raw_data[0]\n",
    "    std2x = data.raw_data[0].std()\n",
    "    std2y = data.raw_data[1].std()\n",
    "\n",
    "    # compare\n",
    "    assert raw1[0,0] != raw2[0,0]  # check if noise is set\n",
    "    assert data.raw_data[0].min() > 0  # check if abs() is taken correctly after noise\n",
    "    assert x1_shape[0]*10 == x2_shape[0]  # check length\n",
    "    assert y1_shape[0]*10 == y2_shape[0]  # check length\n",
    "    assert std2y*0.9999 <= std1y <= std2y*1.0001  # arbitrary, set from a few examples, not future proved\n",
    "    assert std2x*0.999 <= std1x <= std2x*1.001  # arbitrary, set from a few examples, not future proved\n",
    "    assert (raw1-raw2[:len(raw1)]).std() < 0.013  # abitrary, set from a few examples, not future proved\n",
    "    \n",
    "    del data, raw1, raw2, std1x, std1y, std2x, std2y, x2_shape, y2_shape, x1_shape, y1_shape\n",
    "    print(\"\\033[0;30;42m GOOD \\033[0m\")\n",
    "except:\n",
    "    traceback.print_exc()\n",
    "    print(\"\\033[0;30;41m ERROR \\033[0m\")\n",
    "    "
   ]
  },
  {
   "cell_type": "markdown",
   "metadata": {},
   "source": [
    "# test phantom loading"
   ]
  },
  {
   "cell_type": "code",
   "execution_count": 10,
   "metadata": {},
   "outputs": [
    {
     "name": "stdout",
     "output_type": "stream",
     "text": [
      "\u001b[0;30;42m GOOD \u001b[0m\n"
     ]
    }
   ],
   "source": [
    "try:\n",
    "    tmp_config = deepcopy(config)\n",
    "\n",
    "    data = Data()\n",
    "    data.load_phantom('data/test_phantom_wasabi_2020-11-23.p', tmp_config)\n",
    "    tmp = next(iter(data.test_loader))\n",
    "    \n",
    "    assert tmp[0].shape[1] == 31  # check corret data dimension\n",
    "    assert tmp[1].shape[1] == 4  # check corret data dimension\n",
    "    \n",
    "    del tmp, data\n",
    "    print(\"\\033[0;30;42m GOOD \\033[0m\")\n",
    "except:\n",
    "    traceback.print_exc()\n",
    "    print(\"\\033[0;30;41m ERROR \\033[0m\")    "
   ]
  },
  {
   "cell_type": "markdown",
   "metadata": {},
   "source": [
    "# test abort conditions"
   ]
  },
  {
   "cell_type": "code",
   "execution_count": 11,
   "metadata": {},
   "outputs": [
    {
     "name": "stderr",
     "output_type": "stream",
     "text": [
      "100%|#################| 10/10 [00:02<00:00,  3.77it/s, adding noise =gamma type]\n",
      "  0%|         | 0/10 [00:03<?, ?it/s, sum loss=2.87, val sum loss=1.82, epoch=1]"
     ]
    },
    {
     "name": "stdout",
     "output_type": "stream",
     "text": [
      "Required time of 0.0006 h was reached (trained 0.0011 h), training was stopped.\n",
      "\u001b[0;30;42m GOOD \u001b[0m\n"
     ]
    },
    {
     "name": "stderr",
     "output_type": "stream",
     "text": [
      "\n"
     ]
    }
   ],
   "source": [
    "# time\n",
    "try:\n",
    "    tmp_config = deepcopy(config)\n",
    "    tmp_config['ABORT_ON_TIME'] = 2\n",
    "    data = Data()\n",
    "    data.load_data_tensor(tmp_config, printing=False)\n",
    "    trainer = Trainer(data)\n",
    "\n",
    "    tmp_time = time.time()\n",
    "    trainer.train(10)\n",
    "    tmp_time = time.time() - tmp_time\n",
    "\n",
    "    assert tmp_time<6 # check if time trained is roughly correct\n",
    "    \n",
    "    del tmp_time, data\n",
    "    print(\"\\033[0;30;42m GOOD \\033[0m\")\n",
    "except:\n",
    "    traceback.print_exc()\n",
    "    print(\"\\033[0;30;41m ERROR \\033[0m\")"
   ]
  },
  {
   "cell_type": "code",
   "execution_count": 12,
   "metadata": {},
   "outputs": [
    {
     "name": "stderr",
     "output_type": "stream",
     "text": [
      "100%|#################| 10/10 [00:02<00:00,  3.44it/s, adding noise =gamma type]\n",
      " 10%|1| 1/10 [00:07<01:06,  7.42s/it, sum loss=1.61, val sum loss=1.46, epoch=2]"
     ]
    },
    {
     "name": "stdout",
     "output_type": "stream",
     "text": [
      "Required loss (2.00000) was reached (1.60627), training was stopped.\n",
      "\u001b[0;30;42m GOOD \u001b[0m\n"
     ]
    },
    {
     "name": "stderr",
     "output_type": "stream",
     "text": [
      "\n"
     ]
    }
   ],
   "source": [
    "# loss\n",
    "try:\n",
    "    tmp_config = deepcopy(config)\n",
    "    tmp_config['ABORT_ON_LOSS'] = 2.\n",
    "    data = Data()\n",
    "    data.load_data_tensor(tmp_config, printing=False)\n",
    "    trainer = Trainer(data)\n",
    "    trainer.train(10)\n",
    "    \n",
    "    del tmp_config, data\n",
    "    print(\"\\033[0;30;42m GOOD \\033[0m\")\n",
    "except:\n",
    "    traceback.print_exc()\n",
    "    print(\"\\033[0;30;41m ERROR \\033[0m\") "
   ]
  },
  {
   "cell_type": "markdown",
   "metadata": {},
   "source": [
    "# test eval_wasabi"
   ]
  },
  {
   "cell_type": "code",
   "execution_count": 13,
   "metadata": {
    "scrolled": false
   },
   "outputs": [
    {
     "name": "stderr",
     "output_type": "stream",
     "text": [
      "100%|#########################################| 126/126 [00:01<00:00, 64.87it/s]\n"
     ]
    },
    {
     "name": "stdout",
     "output_type": "stream",
     "text": [
      "INFO: dB0 error should not exceed 0.05 ppm\n",
      "mean abs. dB0 error (goal <0.008) = 0.0902 ppm\n",
      "max abs. dB0 error (goal <2.881) = 0.2785 ppm\n",
      "mean rel. dB0 error = 120.9689 %\n",
      " \n",
      "INFO: abs B1 error should not exceed 0.1 µT\n",
      "mean abs. B1 error (goal <0.124) = 0.6868 µT\n",
      "max abs. B1 error (goal <4.774) = 1.3680 µT\n",
      "mean rel. B1 error = 17.2046 %\n",
      " \n",
      "INFO: abs T1 error should not exceed 50 ms\n",
      "mean abs. T1 error = 236.5 ms\n",
      "max abs. T1 error = 1484.4 ms\n",
      "mean rel. T1 error = 14.414 %\n",
      " \n",
      "INFO: abs T2 error should not exceed ? ms\n",
      "mean abs. T2 error = 1226.1 ms\n",
      "max abs. T2 error = 1323.9 ms\n",
      "mean rel. T2 error = 1442.496 %\n",
      " \n"
     ]
    },
    {
     "data": {
      "image/png": "[encoded data removed]",
      "text/plain": [
       "<Figure size 360x360 with 2 Axes>"
      ]
     },
     "metadata": {
      "needs_background": "light"
     },
     "output_type": "display_data"
    },
    {
     "name": "stdout",
     "output_type": "stream",
     "text": [
      "\u001b[0;30;42m GOOD \u001b[0m\n"
     ]
    }
   ],
   "source": [
    "# test general function\n",
    "try:\n",
    "    evalwasabi = EvalWasabi('output/tests/test_config_model_autosave.pt', \n",
    "                        data_type='phantom', \n",
    "                        phantom_filepath='data/test_phantom_wasabi_2020-11-23.p', \n",
    "                        create_zeros_tgts=True)\n",
    "    evalwasabi.predict()\n",
    "    evalwasabi.parameter_min_max_check()\n",
    "    \n",
    "    evalwasabi.plot_parameter()\n",
    "    \n",
    "    del evalwasabi\n",
    "    print(\"\\033[0;30;42m GOOD \\033[0m\")\n",
    "except:\n",
    "    traceback.print_exc()\n",
    "    print(\"\\033[0;30;41m ERROR \\033[0m\") "
   ]
  },
  {
   "cell_type": "markdown",
   "metadata": {},
   "source": [
    "# test R<sup>2</sup>"
   ]
  },
  {
   "cell_type": "code",
   "execution_count": 14,
   "metadata": {},
   "outputs": [
    {
     "name": "stderr",
     "output_type": "stream",
     "text": [
      "100%|#################| 10/10 [00:03<00:00,  3.31it/s, adding noise =gamma type]\n",
      "100%|########################################| 320/320 [00:02<00:00, 130.59it/s]\n"
     ]
    },
    {
     "name": "stdout",
     "output_type": "stream",
     "text": [
      "\u001b[0;30;42m GOOD \u001b[0m\n"
     ]
    },
    {
     "data": {
      "image/png": "[encoded data removed]",
      "text/plain": [
       "<Figure size 432x288 with 1 Axes>"
      ]
     },
     "metadata": {
      "needs_background": "light"
     },
     "output_type": "display_data"
    }
   ],
   "source": [
    "try:\n",
    "    eval_r2 = EvalWasabi(trainer='output/tests/test_config_comp_best_model_save.pt',\n",
    "                        data_type='BMCTool',\n",
    "                        net_to_load='output/tests/test_config_comp_best_model_save.pt')\n",
    "    eval_r2.predict()\n",
    "\n",
    "    eval_r2.plot_lin_reg('B1')\n",
    "\n",
    "    assert isinstance(eval_r2.r2(param='dB0'), float)\n",
    "    assert isinstance(eval_r2.r2(param='B1'), float)\n",
    "    assert isinstance(eval_r2.r2(param='T1'), float)\n",
    "    assert isinstance(eval_r2.r2(param='T2'), float)\n",
    "    assert isinstance(eval_r2.r2(param='b0_shift'), float)\n",
    "    assert isinstance(eval_r2.r2(param='b1_inhom'), float)\n",
    "    assert isinstance(eval_r2.r2(param='t1'), float)\n",
    "    assert isinstance(eval_r2.r2(param='t2'), float)\n",
    "    try:\n",
    "        eval_r2.r2(param='other')\n",
    "    except ValueError:\n",
    "        pass\n",
    "    \n",
    "    del eval_r2\n",
    "    \n",
    "    print(\"\\033[0;30;42m GOOD \\033[0m\")\n",
    "except:\n",
    "    traceback.print_exc()\n",
    "    print(\"\\033[0;30;41m ERROR \\033[0m\") "
   ]
  },
  {
   "cell_type": "markdown",
   "metadata": {},
   "source": [
    "# comparative training"
   ]
  },
  {
   "cell_type": "code",
   "execution_count": 15,
   "metadata": {},
   "outputs": [],
   "source": [
    "# try:\n",
    "#     # load and make the config\n",
    "#     config_tmp = load_config_from_model('output/tests/test_config_05_epochs.pt')\n",
    "#     config_tmp['CONFIG_NAME'] = 'test_config_comp'\n",
    "#     config_tmp['TYPE_PARAMS'] = ['dB0','B1','T1','T2']\n",
    "#     config_tmp['N_NEURONS'] = [31, 100, 100, 8]\n",
    "# \n",
    "#     # load data\n",
    "#     data_ref = Data()\n",
    "#     data_ref.load_data_tensor(config_tmp, printing=False)\n",
    "#     trainer_ref = Trainer(data_ref)\n",
    "# \n",
    "#     # train\n",
    "#     trainer_ref.train(1)\n",
    "#     \n",
    "#     # set compare values\n",
    "#     test = len(trainer_ref.test_loader)\n",
    "#     val = len(trainer_ref.val_loader)\n",
    "#     train = len(trainer_ref.train_loader)\n",
    "# \n",
    "#     evalwasabi_ref = EvalWasabi(trainer_ref, data_type='BMCTool', \n",
    "#                                 x_file='data/testdata/testdata_X_train.pt',\n",
    "#                                 y_file='data/testdata/testdata_y_train.pt',\n",
    "#                                 evaluation=False)\n",
    "#     \n",
    "#     # train\n",
    "#     evalwasabi_ref.trainer[0].train(1)\n",
    "#     \n",
    "#     \n",
    "#     # compare loader len to previous loader\n",
    "#     assert (len(trainer_ref.test_loader) != test)\n",
    "#     assert (len(trainer_ref.val_loader) != val)\n",
    "#     assert (len(trainer_ref.train_loader) != train)\n",
    "#     \n",
    "#     # compare loader in eval_wasabi with loader in trainer \n",
    "#     assert len(trainer_ref.test_loader) == len(evalwasabi_ref.trainer.test_loader)\n",
    "#     assert len(trainer_ref.val_loader) == len(evalwasabi_ref.trainer.val_loader) \n",
    "#     assert len(trainer_ref.train_loader) == len(evalwasabi_ref.trainer.train_loader) \n",
    "# \n",
    "#     del evalwasabi_ref, trainer_ref, data_ref, config_tmp\n",
    "#     \n",
    "#     print(\"\\033[0;30;42m GOOD \\033[0m\")\n",
    "# except:\n",
    "#     traceback.print_exc()\n",
    "#     print(\"\\033[0;30;41m ERROR \\033[0m\") "
   ]
  },
  {
   "cell_type": "markdown",
   "metadata": {},
   "source": [
    "# test tensorboard functionality"
   ]
  },
  {
   "cell_type": "code",
   "execution_count": 16,
   "metadata": {},
   "outputs": [
    {
     "name": "stderr",
     "output_type": "stream",
     "text": [
      "100%|#################| 10/10 [00:03<00:00,  3.02it/s, adding noise =gamma type]\n",
      "100%|##| 1/1 [00:06<00:00,  6.33s/it, sum loss=2.27, val sum loss=1.53, epoch=1]"
     ]
    },
    {
     "name": "stdout",
     "output_type": "stream",
     "text": [
      "\u001b[0;30;42m GOOD \u001b[0m\n"
     ]
    },
    {
     "name": "stderr",
     "output_type": "stream",
     "text": [
      "\n"
     ]
    }
   ],
   "source": [
    "try:\n",
    "    # to access tensorboard on the computer open:\n",
    "    # tensorboard --logdir='path to the repository or even the tests directory in outputs'\n",
    "    # load and make the config\n",
    "    config_tmp = load_config_from_model('output/tests/test_config_05_epochs.pt')\n",
    "    config_tmp['CONFIG_NAME'] = 'test_config_comp'\n",
    "    config_tmp['TYPE_PARAMS'] = ['dB0','B1','T1','T2']\n",
    "    config_tmp['N_NEURONS'] = [31, 100, 100, 8]\n",
    "\n",
    "    # load data\n",
    "    data = Data()\n",
    "    data.load_data_tensor(config_tmp, printing=False)\n",
    "    trainer = Trainer(data, use_tb=True)\n",
    "\n",
    "    # train\n",
    "    trainer.train(1)\n",
    "    \n",
    "    del config_tmp, data, trainer\n",
    "    \n",
    "    print(\"\\033[0;30;42m GOOD \\033[0m\")\n",
    "except:\n",
    "    traceback.print_exc()\n",
    "    print(\"\\033[0;30;41m ERROR \\033[0m\") "
   ]
  },
  {
   "cell_type": "markdown",
   "metadata": {},
   "source": [
    "# test REG_SAVE"
   ]
  },
  {
   "cell_type": "code",
   "execution_count": 17,
   "metadata": {},
   "outputs": [
    {
     "name": "stderr",
     "output_type": "stream",
     "text": [
      "100%|#################| 10/10 [00:03<00:00,  3.21it/s, adding noise =gamma type]\n",
      "100%|##| 2/2 [00:09<00:00,  4.78s/it, sum loss=1.63, val sum loss=1.48, epoch=2]"
     ]
    },
    {
     "name": "stdout",
     "output_type": "stream",
     "text": [
      "\u001b[0;30;42m GOOD \u001b[0m\n"
     ]
    },
    {
     "name": "stderr",
     "output_type": "stream",
     "text": [
      "\n"
     ]
    }
   ],
   "source": [
    "try:\n",
    "    data = Data()\n",
    "    config_tmp = deepcopy(config)\n",
    "    config_tmp['REG_SAVE'] = 1\n",
    "    data.load_data_tensor(config_tmp, printing=False)\n",
    "    trainer = Trainer(data)\n",
    "    trainer.train(2)\n",
    "    \n",
    "    del data, trainer\n",
    "    \n",
    "    print(\"\\033[0;30;42m GOOD \\033[0m\")\n",
    "except:\n",
    "    traceback.print_exc()\n",
    "    print(\"\\033[0;30;41m ERROR \\033[0m\")"
   ]
  },
  {
   "cell_type": "markdown",
   "metadata": {},
   "source": [
    "# test SoftplusSplit and GNLLonSigma"
   ]
  },
  {
   "cell_type": "code",
   "execution_count": 18,
   "metadata": {
    "scrolled": false
   },
   "outputs": [
    {
     "name": "stderr",
     "output_type": "stream",
     "text": [
      "100%|#################| 10/10 [00:03<00:00,  2.88it/s, adding noise =gamma type]\n",
      "100%|#| 2/2 [00:09<00:00,  4.79s/it, sum loss=3.04e+4, val sum loss=2.02e+3, epo"
     ]
    },
    {
     "name": "stdout",
     "output_type": "stream",
     "text": [
      "\u001b[0;30;42m GOOD \u001b[0m\n"
     ]
    },
    {
     "name": "stderr",
     "output_type": "stream",
     "text": [
      "\n"
     ]
    }
   ],
   "source": [
    "try:\n",
    "    config_tmp = deepcopy(config)\n",
    "    config_tmp['LAYER_KWARGS'][5] = {'c_split': [4, 8]}\n",
    "    config_tmp['LAYERS'] += ['softplussplit']\n",
    "    config_tmp['LOSS_FKT'] = 'GNLLonSigma'\n",
    "\n",
    "    # load data\n",
    "    data = Data()\n",
    "    data.load_data_tensor(config_tmp, printing=False)\n",
    "    trainer = Trainer(data)\n",
    "\n",
    "    # train\n",
    "    trainer.train(2)\n",
    "\n",
    "    del config_tmp, data, trainer\n",
    "    \n",
    "    print(\"\\033[0;30;42m GOOD \\033[0m\")\n",
    "except:\n",
    "    traceback.print_exc()\n",
    "    print(\"\\033[0;30;41m ERROR \\033[0m\")"
   ]
  },
  {
   "cell_type": "code",
   "execution_count": 19,
   "metadata": {},
   "outputs": [
    {
     "name": "stdout",
     "output_type": "stream",
     "text": [
      "\u001b[0;30;42m GOOD \u001b[0m\n"
     ]
    }
   ],
   "source": [
    "try:\n",
    "    from wasabi.neural_nets import SoftplusSplit\n",
    "\n",
    "    spsplit = SoftplusSplit([0,2])\n",
    "    tmp = t.tensor([1.,0.,1.,0.])\n",
    "    tmp2 = spsplit(tmp)\n",
    "    \n",
    "    assert tmp2[0] != tmp2[2]\n",
    "    assert tmp2[1] != tmp2[3]\n",
    "    \n",
    "    del spsplit, tmp, tmp2\n",
    "    \n",
    "    print(\"\\033[0;30;42m GOOD \\033[0m\")\n",
    "except:\n",
    "    traceback.print_exc()\n",
    "    print(\"\\033[0;30;41m ERROR \\033[0m\")"
   ]
  },
  {
   "cell_type": "markdown",
   "metadata": {},
   "source": [
    "# run without LAYER_KWARGS"
   ]
  },
  {
   "cell_type": "code",
   "execution_count": 20,
   "metadata": {},
   "outputs": [
    {
     "name": "stderr",
     "output_type": "stream",
     "text": [
      "100%|#################| 10/10 [00:03<00:00,  2.95it/s, adding noise =gamma type]\n",
      "100%|##| 1/1 [00:04<00:00,  4.73s/it, sum loss=2.79, val sum loss=1.82, epoch=1]"
     ]
    },
    {
     "name": "stdout",
     "output_type": "stream",
     "text": [
      "\u001b[0;30;42m GOOD \u001b[0m\n"
     ]
    },
    {
     "name": "stderr",
     "output_type": "stream",
     "text": [
      "\n"
     ]
    }
   ],
   "source": [
    "try:\n",
    "    config_tmp = deepcopy(config)\n",
    "    del config_tmp['LAYER_KWARGS']\n",
    "\n",
    "    # load data\n",
    "    data = Data()\n",
    "    data.load_data_tensor(config_tmp, printing=False)\n",
    "    trainer = Trainer(data)\n",
    "\n",
    "    # train\n",
    "    trainer.train(1)\n",
    "\n",
    "    del config_tmp, data, trainer\n",
    "    \n",
    "    print(\"\\033[0;30;42m GOOD \\033[0m\")\n",
    "except:\n",
    "    traceback.print_exc()\n",
    "    print(\"\\033[0;30;41m ERROR \\033[0m\")"
   ]
  },
  {
   "cell_type": "markdown",
   "metadata": {},
   "source": [
    "# test dynamic norm"
   ]
  },
  {
   "cell_type": "code",
   "execution_count": 21,
   "metadata": {},
   "outputs": [
    {
     "name": "stdout",
     "output_type": "stream",
     "text": [
      "{'OUTPUT_DIR': 'output/tests', 'VAL_FREQ': 1, 'AUTOSAVE_FREQ': 1, 'FORCE_CPUGPU': 'cpu', 'ABORT_ON_OVERFIT': False, 'ABORT_AFTER_N_OVERFIT_EPOCHS': 5, 'ABORT_ON_SLOW_TRAIN': 0.1, 'ABORT_ON_TIME': 3600, 'ABORT_ON_LOSS': -11.0, 'DATA_X_PATH': 'data/testdata/testdata_X_train.pt', 'DATA_Y_PATH': 'data/testdata/testdata_y_train.pt', 'OPTIMIZER': 'Adam', 'LOSS_FKT': 'GNLL', 'BATCH_SIZE': 128, 'DATA_SPLIT': 0.1, 'TYPE_PARAMS': ['dB0', 'B1', 'T1', 'T2'], 'NORM_TGTS': {'dB0': [tensor(-1.0996), tensor(1.0975)], 'B1': [tensor(0.1000), tensor(2.0973)], 'T1': [tensor(-0.0492), tensor(7.0992)], 'T2': [tensor(-0.0939), tensor(5.0940)]}, 'NET': 'CUSTOM', 'LAYERS': ['linear', 'elu', 'linear', 'elu', 'linear'], 'N_NEURONS': [31, 100, 100, 8], 'LAYER_KWARGS': {0: {'bias': True}, 2: {'bias': True}, 4: {'bias': True}}, 'NOISE': 'gamma_std', 'CONFIG_NAME': 'test_config'}\n",
      "tensor(0.0140) tensor(0.9860)\n",
      "\u001b[0;30;42m GOOD \u001b[0m\n"
     ]
    }
   ],
   "source": [
    "try:\n",
    "    config_tmp = deepcopy(config)\n",
    "    config_tmp['NORM_TGTS'] = True\n",
    "\n",
    "    # load data\n",
    "    data = Data()\n",
    "    data.load_data_tensor(config_tmp, add_noise=False, printing=False)\n",
    "    y = data.raw_data[1]\n",
    "    print(data.config)\n",
    "    \n",
    "    print(y.min(), y.max())\n",
    "    assert y[:,3].min() > 0.\n",
    "    assert y[:,3].max() < 1.\n",
    "\n",
    "    del config_tmp, data, y\n",
    "    \n",
    "    print(\"\\033[0;30;42m GOOD \\033[0m\")\n",
    "except:\n",
    "    traceback.print_exc()\n",
    "    print(\"\\033[0;30;41m ERROR \\033[0m\")"
   ]
  },
  {
   "cell_type": "markdown",
   "metadata": {},
   "source": [
    "# test norm"
   ]
  },
  {
   "cell_type": "code",
   "execution_count": 22,
   "metadata": {},
   "outputs": [
    {
     "name": "stdout",
     "output_type": "stream",
     "text": [
      "\u001b[0;30;42m GOOD \u001b[0m\n"
     ]
    }
   ],
   "source": [
    "## test norm without\n",
    "\n",
    "try:\n",
    "    # initialize and fill variables\n",
    "    data = Data()\n",
    "    data.config = {'TYPE_PARAMS': ['dB0', 'B1', 'T1']}\n",
    "    data.n_tgt_params = 3\n",
    "    y_raw = t.arange(9, dtype=float).reshape((3,3))\n",
    "    x = t.zeros(18, dtype=float).reshape((3,6))\n",
    "\n",
    "    # norm\n",
    "    y = data._check_for_norming_tgts(norm_tgt_space={'dB0':[-1.,7.], 'B1':[0.,8.], 'T1':[0.,9.]}, y_raw = deepcopy(y_raw))\n",
    "\n",
    "    # check that norm does something\n",
    "    assert not np.allclose(y, y_raw, rtol=1e-3)\n",
    "\n",
    "    x[:,:3] = deepcopy(y)  # fill parameter\n",
    "    x[:,3:] = deepcopy(y)  # fill uncertainties\n",
    "\n",
    "    # undo norm\n",
    "    x,y = data.undo_norm_tgts(x,y)\n",
    "\n",
    "    # check that denorm(norm(y)) works\n",
    "    assert np.allclose(y, y_raw, rtol=1e-3)\n",
    "    assert np.allclose(x[:,:3], y_raw, rtol=1e-3)\n",
    "    \n",
    "    del y, x, y_raw, data\n",
    "    \n",
    "    print(\"\\033[0;30;42m GOOD \\033[0m\")\n",
    "except:\n",
    "    traceback.print_exc()\n",
    "    print(\"\\033[0;30;41m ERROR \\033[0m\")"
   ]
  },
  {
   "cell_type": "code",
   "execution_count": 23,
   "metadata": {},
   "outputs": [
    {
     "name": "stdout",
     "output_type": "stream",
     "text": [
      "\u001b[0;30;42m GOOD \u001b[0m\n"
     ]
    }
   ],
   "source": [
    "## check with automatic norm parameters\n",
    "\n",
    "try:\n",
    "    # initialize and fill variables\n",
    "    data = Data()\n",
    "    data.config = {'TYPE_PARAMS': ['dB0', 'B1', 'T1']}\n",
    "    data.n_tgt_params = 3\n",
    "    data.dev = 'cpu'\n",
    "    y_raw = t.arange(12, dtype=float).reshape((3,4))\n",
    "    x = t.zeros(18, dtype=float).reshape((3,6))\n",
    "\n",
    "    y = data._check_for_norming_tgts(norm_tgt_space = True, y_raw = deepcopy(y_raw))\n",
    "\n",
    "    # check if it still works after trimming the parameters\n",
    "    y = data._transf_target_vector_to_params(y_raw = y, config = data.config)\n",
    "\n",
    "    # check that norm does something\n",
    "    assert not np.allclose(y, y_raw[:,:3], rtol=1e-3)\n",
    "\n",
    "    x[:,:3] = deepcopy(y)  # fill parameter\n",
    "    x[:,3:] = deepcopy(y)  # fill uncertainties\n",
    "\n",
    "    # undo norm\n",
    "    x,y = data.undo_norm_tgts(x,y)\n",
    "\n",
    "    # check that denorm(norm(y)) works\n",
    "    assert np.allclose(y, y_raw[:,:3], rtol=1e-3)\n",
    "    assert np.allclose(x[:,:3], y_raw[:,:3], rtol=1e-3)\n",
    "    \n",
    "    del y, x, y_raw, data\n",
    "    \n",
    "    print(\"\\033[0;30;42m GOOD \\033[0m\")\n",
    "except:\n",
    "    traceback.print_exc()\n",
    "    print(\"\\033[0;30;41m ERROR \\033[0m\")"
   ]
  },
  {
   "cell_type": "markdown",
   "metadata": {},
   "source": [
    "# test ensemble"
   ]
  },
  {
   "cell_type": "code",
   "execution_count": 24,
   "metadata": {
    "scrolled": false
   },
   "outputs": [
    {
     "name": "stderr",
     "output_type": "stream",
     "text": [
      "100%|########################################| 126/126 [00:00<00:00, 475.15it/s]\n",
      "100%|########################################| 126/126 [00:00<00:00, 359.43it/s]\n",
      "100%|########################################| 126/126 [00:00<00:00, 419.92it/s]\n"
     ]
    },
    {
     "name": "stdout",
     "output_type": "stream",
     "text": [
      "evaluating ensemble mean and variance\n",
      "evaluating ensemble mean and variance\n",
      "evaluating ensemble mean and variance\n"
     ]
    },
    {
     "data": {
      "image/png": "[encoded data removed]",
      "text/plain": [
       "<Figure size 360x360 with 2 Axes>"
      ]
     },
     "metadata": {
      "needs_background": "light"
     },
     "output_type": "display_data"
    },
    {
     "name": "stdout",
     "output_type": "stream",
     "text": [
      "evaluating ensemble mean and variance\n",
      "\u001b[0;30;42m GOOD \u001b[0m\n"
     ]
    }
   ],
   "source": [
    "try:\n",
    "    config_tmp = deepcopy(config)\n",
    "\n",
    "    evalwasabi = EvalWasabi(config_tmp,\n",
    "                            data_type='phantom', \n",
    "                            phantom_filepath='data/test_phantom_wasabi_2020-11-23.p', \n",
    "                            create_zeros_tgts=True,\n",
    "                            net_to_load=['output/tests/test_config_ens_1.pt', \n",
    "                                         'output/tests/test_config_ens_2.pt', \n",
    "                                         'output/tests/test_config_ens_3.pt'])\n",
    "    evalwasabi.predict()\n",
    "    evalwasabi.parameter_min_max_check(print_param=False)\n",
    "    ens = evalwasabi.get_predictions(ens=True)\n",
    "    non_ens = evalwasabi.get_predictions()\n",
    "\n",
    "    # check that predictions are the same\n",
    "    assert t.isclose(ens[:,:4].mean(), non_ens[:,:4].mean(), atol=0.00001)\n",
    "    # check that uncertainties are different\n",
    "    assert ens[:,4:].mean() != non_ens[:,4:].mean()\n",
    "\n",
    "    # check plotting with ensemble\n",
    "    evalwasabi.plot_parameter(param='T1', uncertainty=True, ens=True)\n",
    "\n",
    "    # check numeric correct calculation\n",
    "    evalwasabi.trainer[0].predictions = t.zeros([5, 8], dtype=float).to('cuda:0') + 1.\n",
    "    evalwasabi.trainer[1].predictions = t.zeros([5, 8], dtype=float).to('cuda:0') + 2.\n",
    "    evalwasabi.trainer[2].predictions = t.zeros([5, 8], dtype=float).to('cuda:0') + 3.\n",
    "\n",
    "    ens = evalwasabi.get_predictions(ens=True)\n",
    "    non_ens = evalwasabi.get_predictions()\n",
    "\n",
    "    # check ensemble mean and variance calculation\n",
    "    assert ens[0,0] == 2 \n",
    "    assert ens[-1,-1] == 1\n",
    "    # check non ensemble mean and mean of uncertainies calculation\n",
    "    assert non_ens[0,0] == 2\n",
    "    assert non_ens[-1,-1] == 2\n",
    "    \n",
    "    del evalwasabi, ens, non_ens\n",
    "    \n",
    "    print(\"\\033[0;30;42m GOOD \\033[0m\")\n",
    "except:\n",
    "    traceback.print_exc()\n",
    "    print(\"\\033[0;30;41m ERROR \\033[0m\")"
   ]
  },
  {
   "cell_type": "markdown",
   "metadata": {},
   "source": [
    "# Test ensemble uncertainties"
   ]
  },
  {
   "cell_type": "code",
   "execution_count": 5,
   "metadata": {},
   "outputs": [
    {
     "name": "stderr",
     "output_type": "stream",
     "text": [
      "100%|########################################| 126/126 [00:00<00:00, 547.77it/s]\n",
      "100%|########################################| 126/126 [00:00<00:00, 524.22it/s]\n",
      "100%|########################################| 126/126 [00:00<00:00, 527.44it/s]\n"
     ]
    },
    {
     "name": "stdout",
     "output_type": "stream",
     "text": [
      "evaluating ensemble mean and variance\n",
      "evaluating ensemble mean and variance\n"
     ]
    },
    {
     "data": {
      "image/png": "[encoded data removed]",
      "text/plain": [
       "<Figure size 360x360 with 2 Axes>"
      ]
     },
     "metadata": {
      "needs_background": "light"
     },
     "output_type": "display_data"
    },
    {
     "name": "stdout",
     "output_type": "stream",
     "text": [
      "evaluating ensemble mean and variance\n",
      "evaluating ensemble mean and variance\n"
     ]
    },
    {
     "data": {
      "image/png": "[encoded data removed]",
      "text/plain": [
       "<Figure size 360x360 with 2 Axes>"
      ]
     },
     "metadata": {
      "needs_background": "light"
     },
     "output_type": "display_data"
    },
    {
     "name": "stdout",
     "output_type": "stream",
     "text": [
      "evaluating ensemble mean and variance\n",
      "evaluating ensemble mean and variance\n"
     ]
    },
    {
     "data": {
      "image/png": "[encoded data removed]",
      "text/plain": [
       "<Figure size 360x360 with 2 Axes>"
      ]
     },
     "metadata": {
      "needs_background": "light"
     },
     "output_type": "display_data"
    },
    {
     "name": "stdout",
     "output_type": "stream",
     "text": [
      "evaluating ensemble mean and variance\n",
      "evaluating ensemble mean and variance\n",
      "evaluating ensemble mean and variance\n",
      "\u001b[0;30;42m GOOD \u001b[0m\n"
     ]
    }
   ],
   "source": [
    "try:\n",
    "    config_tmp = deepcopy(config)\n",
    "\n",
    "    evalwasabi = EvalWasabi(config_tmp,\n",
    "                            data_type='phantom', \n",
    "                            phantom_filepath='data/test_phantom_wasabi_2020-11-23.p', \n",
    "                            create_zeros_tgts=True,\n",
    "                            net_to_load=['output/tests/test_config_ens_1.pt', \n",
    "                                         'output/tests/test_config_ens_2.pt', \n",
    "                                         'output/tests/test_config_ens_3.pt'])\n",
    "    evalwasabi.predict()\n",
    "\n",
    "    # check plotting with ensemble\n",
    "    evalwasabi.plot_parameter(param='T1', uncertainty=True, ens=True, uncer_type='aleatoric')\n",
    "    evalwasabi.plot_parameter(param='T1', uncertainty=True, ens=True, uncer_type='epistemic')\n",
    "    evalwasabi.plot_parameter(param='T1', uncertainty=True, ens=True, uncer_type='combined')\n",
    "\n",
    "\n",
    "\n",
    "    # check numeric correct calculation ALEATORIC\n",
    "    evalwasabi.trainer[0].predictions = t.zeros([5, 8], dtype=float).to('cuda:0') + 1.\n",
    "    evalwasabi.trainer[1].predictions = t.zeros([5, 8], dtype=float).to('cuda:0') + 1.\n",
    "    evalwasabi.trainer[2].predictions = t.zeros([5, 8], dtype=float).to('cuda:0') + 1.\n",
    "\n",
    "    ens = evalwasabi.get_predictions(ens=True, uncer_type='aleatoric')\n",
    "    non_ens = evalwasabi.get_predictions()\n",
    "    \n",
    "    # check ensemble mean and variance calculation\n",
    "    assert ens[0,0] == 1\n",
    "    assert ens[-1,-1] == 1\n",
    "    # check non ensemble mean and mean of uncertainies calculation\n",
    "    assert non_ens[0,0] == 1\n",
    "    assert non_ens[-1,-1] == 1\n",
    "    \n",
    "    \n",
    "    # check numeric correct calculation EPISTEMIC\n",
    "    evalwasabi.trainer[0].predictions = t.zeros([5, 8], dtype=float).to('cuda:0') + 1.\n",
    "    evalwasabi.trainer[1].predictions = t.zeros([5, 8], dtype=float).to('cuda:0') + 1.\n",
    "    evalwasabi.trainer[2].predictions = t.zeros([5, 8], dtype=float).to('cuda:0') + 1.\n",
    "\n",
    "    ens = evalwasabi.get_predictions(ens=True, uncer_type='epistemic')\n",
    "    non_ens = evalwasabi.get_predictions()\n",
    "    \n",
    "    # check ensemble mean and variance calculation\n",
    "    assert ens[0,0] == 1\n",
    "    assert ens[-1,-1] == 0\n",
    "    # check non ensemble mean and mean of uncertainies calculation\n",
    "    assert non_ens[0,0] == 1\n",
    "    assert non_ens[-1,-1] == 1\n",
    "    \n",
    "    \n",
    "    # check numeric correct calculation COMBINED\n",
    "    evalwasabi.trainer[0].predictions = t.zeros([5, 8], dtype=float).to('cuda:0') + 1.\n",
    "    evalwasabi.trainer[1].predictions = t.zeros([5, 8], dtype=float).to('cuda:0') + 1.\n",
    "    evalwasabi.trainer[2].predictions = t.zeros([5, 8], dtype=float).to('cuda:0') + 1.\n",
    "\n",
    "    ens = evalwasabi.get_predictions(ens=True, uncer_type='combined')\n",
    "    non_ens = evalwasabi.get_predictions()\n",
    "    \n",
    "    # check ensemble mean and variance calculation\n",
    "    assert ens[0,0] == 1\n",
    "    assert ens[-1,-1] == 1\n",
    "    # check non ensemble mean and mean of uncertainies calculation\n",
    "    assert non_ens[0,0] == 1\n",
    "    assert non_ens[-1,-1] == 1\n",
    "    \n",
    "    del evalwasabi, ens, non_ens\n",
    "    \n",
    "    print(\"\\033[0;30;42m GOOD \\033[0m\")\n",
    "except:\n",
    "    traceback.print_exc()\n",
    "    print(\"\\033[0;30;41m ERROR \\033[0m\")"
   ]
  },
  {
   "cell_type": "markdown",
   "metadata": {},
   "source": [
    "# test physical model functionality"
   ]
  },
  {
   "cell_type": "code",
   "execution_count": 25,
   "metadata": {
    "scrolled": true
   },
   "outputs": [
    {
     "name": "stderr",
     "output_type": "stream",
     "text": [
      "100%|#################| 10/10 [00:20<00:00,  2.02s/it, adding noise =gamma type]\n",
      "100%|#| 1/1 [00:48<00:00, 48.88s/it, sum loss=-1.62, val sum loss=-2.14, epoch=1"
     ]
    },
    {
     "name": "stdout",
     "output_type": "stream",
     "text": [
      "\u001b[0;30;42m GOOD \u001b[0m\n"
     ]
    },
    {
     "name": "stderr",
     "output_type": "stream",
     "text": [
      "\n"
     ]
    }
   ],
   "source": [
    "try:\n",
    "    config_tmp = deepcopy(config)\n",
    "    config_tmp['FORCE_CPUGPU'] = 'gpu'\n",
    "    config_tmp['DATA_Y_PATH'] = \"/home/henrik/work/python/WASABInet/data/testdata/20210720_20210706_WASABITI_sweep12_sim/20210720_y_20210706_WASABITI_sweep12_sim.pt\"\n",
    "    config_tmp['DATA_X_PATH'] = \"/home/henrik/work/python/WASABInet/data/testdata/20210720_20210706_WASABITI_sweep12_sim/20210720_X_20210706_WASABITI_sweep12_sim.pt\"\n",
    "    config_tmp['LAYERS'] += ['softplus']\n",
    "    config_tmp['TYPE_PARAMS'] = ['dB0','B1','T1']\n",
    "    config_tmp['NORM_TGTS'] = True\n",
    "    config_tmp['BATCH_SIZE'] = {1: 128, 15:256}\n",
    "    config_tmp['N_NEURONS'] = [31, 100, 100, 6]\n",
    "    config_tmp['LOSS_FKT'] = 'GNLLonSigma'\n",
    "    config_tmp['LOSS_FKT'] = {'FCT': 'GNLLonSigma_PhysM',\n",
    "    'kwargs':{\n",
    "    'x':[\n",
    "      -2., -1.86666667, -1.73333333, -1.6, -1.46666667, -1.33333333, -1.2, -1.06666667, \n",
    "        -0.933333333, -0.8, -0.666666667, -0.533333333, -0.4, -0.266666667, -0.133333333, \n",
    "        0., 0.133333333, 0.266666667, 0.4, 0.533333333, 0.666666667, 0.8, 0.933333333, 1.06666667, \n",
    "        1.2, 1.33333333, 1.46666667, 1.6, 1.73333333,1.86666667, 2.],\n",
    "    'trec':[\n",
    "    0.5, 1, 1.5, 2, 2.5, 3, 1.5, 1.5, 1.5, 1.5, 1.5, 1.5, 1.5, 1.5, 1.5, 1.5, 1.5, \n",
    "        1.5, 1.5, 1.5, 1.5, 1.5, 1.5, 1.5, 1.5, 3, 2.5, 2, 1.5, 1, 0.5],\n",
    "    'lambda_fact': 3., 't2': 75e-3}}\n",
    "    data = Data()\n",
    "    data.load_data_tensor(config_tmp, printing=False)\n",
    "    trainer = Trainer(data, use_tb=True)\n",
    "    trainer.train(1)\n",
    "    \n",
    "    del data, trainer\n",
    "    \n",
    "    print(\"\\033[0;30;42m GOOD \\033[0m\")\n",
    "except:\n",
    "    traceback.print_exc()\n",
    "    print(\"\\033[0;30;41m ERROR \\033[0m\")"
   ]
  },
  {
   "cell_type": "code",
   "execution_count": 26,
   "metadata": {},
   "outputs": [
    {
     "name": "stderr",
     "output_type": "stream",
     "text": [
      "100%|#################| 10/10 [00:18<00:00,  1.84s/it, adding noise =gamma type]\n",
      "100%|#| 1/1 [00:51<00:00, 51.76s/it, sum loss=-1.57, val sum loss=-2.11, epoch=1"
     ]
    },
    {
     "name": "stdout",
     "output_type": "stream",
     "text": [
      "\u001b[0;30;42m GOOD \u001b[0m\n"
     ]
    },
    {
     "name": "stderr",
     "output_type": "stream",
     "text": [
      "\n"
     ]
    }
   ],
   "source": [
    "try:\n",
    "    config_tmp = deepcopy(config)\n",
    "    config_tmp['FORCE_CPUGPU'] = 'gpu'\n",
    "    config_tmp['DATA_Y_PATH'] = \"/home/henrik/work/python/WASABInet/data/testdata/20210720_20210706_WASABITI_sweep12_sim/20210720_y_20210706_WASABITI_sweep12_sim.pt\"\n",
    "    config_tmp['DATA_X_PATH'] = \"/home/henrik/work/python/WASABInet/data/testdata/20210720_20210706_WASABITI_sweep12_sim/20210720_X_20210706_WASABITI_sweep12_sim.pt\"\n",
    "    config_tmp['LAYERS'] += ['softplus']\n",
    "    config_tmp['TYPE_PARAMS'] = ['dB0','B1','T1']\n",
    "    config_tmp['NORM_TGTS'] = True\n",
    "    config_tmp['BATCH_SIZE'] = {1: 128, 15:256}\n",
    "    config_tmp['N_NEURONS'] = [31, 100, 100, 6]\n",
    "    config_tmp['LOSS_FKT'] = 'GNLLonSigma'\n",
    "    config_tmp['LOSS_FKT'] = {'FCT': 'GNLLonSigma_PhysM_alt',\n",
    "    'kwargs':{\n",
    "    'x':[\n",
    "      -2., -1.86666667, -1.73333333, -1.6, -1.46666667, -1.33333333, -1.2, -1.06666667, \n",
    "        -0.933333333, -0.8, -0.666666667, -0.533333333, -0.4, -0.266666667, -0.133333333, \n",
    "        0., 0.133333333, 0.266666667, 0.4, 0.533333333, 0.666666667, 0.8, 0.933333333, 1.06666667, \n",
    "        1.2, 1.33333333, 1.46666667, 1.6, 1.73333333,1.86666667, 2.],\n",
    "    'trec':[\n",
    "    0.5, 1, 1.5, 2, 2.5, 3, 1.5, 1.5, 1.5, 1.5, 1.5, 1.5, 1.5, 1.5, 1.5, 1.5, 1.5, \n",
    "        1.5, 1.5, 1.5, 1.5, 1.5, 1.5, 1.5, 1.5, 3, 2.5, 2, 1.5, 1, 0.5],\n",
    "    'lambda_fact': 3., 't2': 75e-3}}\n",
    "    data = Data()\n",
    "    data.load_data_tensor(config_tmp, printing=False)\n",
    "    trainer = Trainer(data, use_tb=True)\n",
    "    trainer.train(1)\n",
    "    \n",
    "    del data, trainer\n",
    "    \n",
    "    print(\"\\033[0;30;42m GOOD \\033[0m\")\n",
    "except:\n",
    "    traceback.print_exc()\n",
    "    print(\"\\033[0;30;41m ERROR \\033[0m\")"
   ]
  },
  {
   "cell_type": "markdown",
   "metadata": {},
   "source": [
    "# test PhysM_alt"
   ]
  },
  {
   "cell_type": "code",
   "execution_count": 27,
   "metadata": {
    "scrolled": true
   },
   "outputs": [
    {
     "name": "stderr",
     "output_type": "stream",
     "text": [
      "100%|#################| 10/10 [00:19<00:00,  1.96s/it, adding noise =gamma type]\n"
     ]
    }
   ],
   "source": [
    "config_tmp = deepcopy(config)\n",
    "config_tmp['FORCE_CPUGPU'] = 'gpu'\n",
    "config_tmp['DATA_Y_PATH'] = \"data/testdata/20211119_WASABITI_sweep12_analytical_testdata/20211119_y_WASABITI_sweep12_analytical_testdata.pt\"\n",
    "config_tmp['DATA_X_PATH'] = \"data/testdata/20211119_WASABITI_sweep12_analytical_testdata/20211119_X_WASABITI_sweep12_analytical_testdata.pt\"\n",
    "config_tmp['LAYERS'] += ['softplus']\n",
    "config_tmp['TYPE_PARAMS'] = ['dB0','B1','T1', 'T2']\n",
    "config_tmp['NORM_TGTS'] = True\n",
    "config_tmp['BATCH_SIZE'] = {1: 128, 15:256}\n",
    "config_tmp['N_NEURONS'] = [31, 100, 100, 8]\n",
    "config_tmp['LOSS_FKT'] = 'GNLLonSigma'\n",
    "config_tmp['LOSS_FKT'] = {'FCT': 'GNLLonSigma_PhysM_alt',\n",
    "'kwargs':{\n",
    "'x':[\n",
    "  -2., -1.86666667, -1.73333333, -1.6, -1.46666667, -1.33333333, -1.2, -1.06666667, \n",
    "    -0.933333333, -0.8, -0.666666667, -0.533333333, -0.4, -0.266666667, -0.133333333, \n",
    "    0., 0.133333333, 0.266666667, 0.4, 0.533333333, 0.666666667, 0.8, 0.933333333, 1.06666667, \n",
    "    1.2, 1.33333333, 1.46666667, 1.6, 1.73333333,1.86666667, 2.],\n",
    "'trec':[\n",
    "0.5, 1, 1.5, 2, 2.5, 3, 1.5, 1.5, 1.5, 1.5, 1.5, 1.5, 1.5, 1.5, 1.5, 1.5, 1.5, \n",
    "    1.5, 1.5, 1.5, 1.5, 1.5, 1.5, 1.5, 1.5, 3, 2.5, 2, 1.5, 1, 0.5],\n",
    "'lambda_fact': 3., 't2': 75e-3}}\n",
    "\n",
    "\n",
    "data = Data()\n",
    "data.load_data_tensor(config_tmp, printing=False)\n",
    "trainer = Trainer(data, use_tb=True)"
   ]
  },
  {
   "cell_type": "code",
   "execution_count": 29,
   "metadata": {},
   "outputs": [],
   "source": [
    "# get prediction\n",
    "input_x, input_y, input_x_no_noise, _ = next(iter(trainer.test_loader))\n",
    "output = trainer.net(input_x)\n",
    "gnll_loss, phys_m_loss = trainer.crit(output, input_y, input_x_no_noise, trainer.data)"
   ]
  },
  {
   "cell_type": "code",
   "execution_count": 31,
   "metadata": {},
   "outputs": [
    {
     "name": "stdout",
     "output_type": "stream",
     "text": [
      "0 phys_loss 1.9801718e-14 gnll_loss 46.00116\n",
      "1 phys_loss 1.9801718e-14 gnll_loss 36.47262\n",
      "2 phys_loss 1.9801718e-14 gnll_loss 27.234343\n",
      "3 phys_loss 1.9801718e-14 gnll_loss 18.111065\n",
      "4 phys_loss 1.9801718e-14 gnll_loss 8.8635845\n",
      "5 phys_loss 1.9801718e-14 gnll_loss -0.6201142\n",
      "6 phys_loss 1.9801718e-14 gnll_loss -9.354542\n",
      "7 phys_loss 1.9801718e-14 gnll_loss -18.818222\n",
      "8 phys_loss 1.9801718e-14 gnll_loss -27.883133\n",
      "9 phys_loss 1.9801718e-14 gnll_loss -37.008858\n",
      "10 phys_loss 1.9801718e-14 gnll_loss -46.359642\n",
      "11 phys_loss 1.9801718e-14 gnll_loss -55.691444\n",
      "12 phys_loss 1.9801718e-14 gnll_loss -64.96227\n",
      "13 phys_loss 1.9801718e-14 gnll_loss -73.847595\n",
      "14 phys_loss 1.9801718e-14 gnll_loss -83.18143\n",
      "\n",
      "0 phys_loss 1.9801718e-14 gnll_loss -83.18143\n",
      "1 phys_loss 0.06519935 gnll_loss 2.3772307e+20\n",
      "2 phys_loss 0.09829814 gnll_loss 2.1395078e+21\n",
      "3 phys_loss 0.12584554 gnll_loss 1.1648431e+22\n",
      "4 phys_loss 0.15036705 gnll_loss 5.3487686e+22\n",
      "5 phys_loss 0.16661176 gnll_loss 2.284519e+23\n",
      "6 phys_loss 0.17536664 gnll_loss 9.435229e+23\n",
      "7 phys_loss 0.18034492 gnll_loss 3.8342356e+24\n",
      "8 phys_loss 0.18282147 gnll_loss 1.5457945e+25\n",
      "9 phys_loss 0.18414363 gnll_loss 6.2074493e+25\n",
      "10 phys_loss 0.18476713 gnll_loss 2.487841e+26\n",
      "11 phys_loss 0.18508314 gnll_loss 9.961093e+26\n",
      "12 phys_loss 0.18524587 gnll_loss 3.9863842e+27\n",
      "13 phys_loss 0.18532786 gnll_loss 1.5949432e+28\n",
      "14 phys_loss 0.18536967 gnll_loss 6.380551e+28\n"
     ]
    }
   ],
   "source": [
    "# get prediction\n",
    "input_x, input_y, input_x_no_noise, _ = next(iter(trainer.test_loader))\n",
    "output = trainer.net(input_x)\n",
    "\n",
    "# change 4 params to OG values\n",
    "output_modded = output.clone()\n",
    "output_modded[:,:4] = input_y[:]\n",
    "\n",
    "##  if small uncerts mean small GNLL loss\n",
    "# magnitude of uncerts\n",
    "for i in range(0, 15):\n",
    "    uncert = t.rand([128,4], dtype=t.float32) * 10**(5-i)\n",
    "    output_modded[:,4:] = uncert[:]\n",
    "\n",
    "    # calc phys_m_loss\n",
    "    gnll_loss, phys_m_loss = trainer.crit(output_modded, input_y, input_x_no_noise, trainer.data)\n",
    "    \n",
    "    print(i , 'phys_loss', phys_m_loss.cpu().detach().numpy(), 'gnll_loss', gnll_loss.mean().cpu().detach().numpy())\n",
    "    \n",
    "print('')\n",
    "\n",
    "## if correct params mean small loss\n",
    "# magnitude of true values\n",
    "for i in range(0, 15):\n",
    "    output_modded[:,:4] = input_y[:,:4] * 2**(i)\n",
    "\n",
    "    # calc phys_m_loss\n",
    "    gnll_loss, phys_m_loss = trainer.crit(output_modded, input_y, input_x_no_noise, trainer.data)\n",
    "    \n",
    "    print(i , 'phys_loss', phys_m_loss.cpu().detach().numpy(), 'gnll_loss', gnll_loss.mean().cpu().detach().numpy())"
   ]
  },
  {
   "cell_type": "code",
   "execution_count": 4,
   "metadata": {},
   "outputs": [
    {
     "name": "stderr",
     "output_type": "stream",
     "text": [
      "100%|#################| 10/10 [00:16<00:00,  1.65s/it, adding noise =gamma type]\n",
      "100%|#| 5/5 [04:00<00:00, 48.10s/it, sum loss=-3.26, val sum loss=-3.34, epoch=5\n"
     ]
    }
   ],
   "source": [
    "config_tmp = deepcopy(config)\n",
    "config_tmp['FORCE_CPUGPU'] = 'gpu'\n",
    "config_tmp['DATA_Y_PATH'] = \"data/testdata/20211119_WASABITI_sweep12_analytical_testdata/20211119_y_WASABITI_sweep12_analytical_testdata.pt\"\n",
    "config_tmp['DATA_X_PATH'] = \"data/testdata/20211119_WASABITI_sweep12_analytical_testdata/20211119_X_WASABITI_sweep12_analytical_testdata.pt\"\n",
    "config_tmp['LAYERS'] += ['softplus']\n",
    "config_tmp['TYPE_PARAMS'] = ['dB0','B1','T1', 'T2']\n",
    "config_tmp['NORM_TGTS'] = True\n",
    "config_tmp['BATCH_SIZE'] = {1: 128, 15:256}\n",
    "config_tmp['N_NEURONS'] = [31, 100, 100, 8]\n",
    "config_tmp['LOSS_FKT'] = 'GNLLonSigma'\n",
    "config_tmp['LOSS_FKT'] = {'FCT': 'GNLLonSigma_PhysM_alt_useTgts',\n",
    "'kwargs':{\n",
    "'x':[\n",
    "  -2., -1.86666667, -1.73333333, -1.6, -1.46666667, -1.33333333, -1.2, -1.06666667, \n",
    "    -0.933333333, -0.8, -0.666666667, -0.533333333, -0.4, -0.266666667, -0.133333333, \n",
    "    0., 0.133333333, 0.266666667, 0.4, 0.533333333, 0.666666667, 0.8, 0.933333333, 1.06666667, \n",
    "    1.2, 1.33333333, 1.46666667, 1.6, 1.73333333,1.86666667, 2.],\n",
    "'trec':[\n",
    "0.5, 1, 1.5, 2, 2.5, 3, 1.5, 1.5, 1.5, 1.5, 1.5, 1.5, 1.5, 1.5, 1.5, 1.5, 1.5, \n",
    "    1.5, 1.5, 1.5, 1.5, 1.5, 1.5, 1.5, 1.5, 3, 2.5, 2, 1.5, 1, 0.5],\n",
    "'lambda_fact': 3.}}\n",
    "\n",
    "\n",
    "data = Data()\n",
    "data.load_data_tensor(config_tmp, printing=False)\n",
    "trainer = Trainer(data, use_tb=False)\n",
    "trainer.train(5)"
   ]
  },
  {
   "cell_type": "code",
   "execution_count": null,
   "metadata": {},
   "outputs": [],
   "source": []
  },
  {
   "cell_type": "code",
   "execution_count": null,
   "metadata": {},
   "outputs": [],
   "source": []
  },
  {
   "cell_type": "code",
   "execution_count": 5,
   "metadata": {},
   "outputs": [],
   "source": [
    "# get prediction\n",
    "input_x, input_y, input_x_no_noise, y_no_noise_useTgts = next(iter(trainer.test_loader))\n",
    "output = trainer.net(input_x)\n",
    "gnll_loss, phys_m_loss = trainer.crit(output, input_y, input_x_no_noise, y_no_noise_useTgts, trainer.data)"
   ]
  },
  {
   "cell_type": "code",
   "execution_count": 6,
   "metadata": {},
   "outputs": [
    {
     "data": {
      "text/plain": [
       "tensor(0.0279, device='cuda:0', grad_fn=<MseLossBackward0>)"
      ]
     },
     "execution_count": 6,
     "metadata": {},
     "output_type": "execute_result"
    }
   ],
   "source": [
    "phys_m_loss"
   ]
  },
  {
   "cell_type": "code",
   "execution_count": 11,
   "metadata": {
    "collapsed": true
   },
   "outputs": [
    {
     "data": {
      "text/plain": [
       "tensor([ -7.2489,  -0.7479,  -4.6581,  -4.5466,   0.6147,  -3.8587,  -1.5144,\n",
       "         -5.3237,  -4.5706,  -4.6704,  -9.8966,  -4.5133,  -7.7170,  -2.2323,\n",
       "         -1.6680,  -0.3119,  -0.5100,  -9.0092,  -5.2129,   1.1859,  -2.7596,\n",
       "         -3.1211,  -1.5747,  -4.1210,  -5.1978,  -1.5036,  -1.5457,  -2.3256,\n",
       "         -6.9276,  -3.4864,  -2.6599,  -4.3812,  -3.5229,  -4.1245,  -4.9532,\n",
       "         -3.9146,  -4.1460,  -1.8325,  -1.7718,  -2.8102,  -6.1922,  -9.8017,\n",
       "         -0.5916,  -0.3888,  -2.4644,  -9.8138,  -3.5989,  -1.8714,  -0.9033,\n",
       "         -4.7491,  -6.7295,  -4.2450,  -6.6143,  -8.1793,  -2.8076,  -9.0256,\n",
       "         -5.1738,  -6.1014,   3.2398,  -3.9345,  -6.2883,  -4.6348,  -7.7175,\n",
       "         -6.1648,   0.6447,  -2.8399,  -5.2579,   0.3027,  -2.5418,  -1.8074,\n",
       "         -0.9646,   0.4956,  -5.8625,  -5.4853,  -2.2713,   5.8330,  -1.6978,\n",
       "         -2.4780,  -4.9399,  -1.8994,  -6.2542, -10.0076,  -6.2663,  -0.4265,\n",
       "         -3.7258,  -5.2831,  -4.2334,  -4.0228,  -4.2760,  -3.7048,  -0.7361,\n",
       "         -3.1963,  -3.9572,  -3.6634,  -4.9311,  -3.2491,  -3.7766,  -1.5497,\n",
       "         -1.4777,  -5.8774,  -0.5265,  -6.7364,  -4.1708,  -3.9687,  -3.2337,\n",
       "         -5.8881,  -4.6227,  -5.7597,   0.6604,  -1.9635,  -7.1781,  -5.3031,\n",
       "         -5.2527,  -8.5847,  -3.2276,   1.6684,  -6.3621,  -3.3924,  -9.2293,\n",
       "          1.4669,  -5.3447,  -5.1253,  -7.6410,  -1.6305,  -1.6227,  -5.9976,\n",
       "         -3.8345,  -2.3342], device='cuda:0', grad_fn=<AddBackward0>)"
      ]
     },
     "execution_count": 11,
     "metadata": {},
     "output_type": "execute_result"
    }
   ],
   "source": [
    "gnll_loss"
   ]
  },
  {
   "cell_type": "code",
   "execution_count": 7,
   "metadata": {},
   "outputs": [
    {
     "name": "stdout",
     "output_type": "stream",
     "text": [
      "tensor(0.9999, device='cuda:0')\n",
      "tensor(2.0000, device='cuda:0')\n",
      "tensor(6.9995, device='cuda:0')\n",
      "tensor(4.9972, device='cuda:0')\n"
     ]
    }
   ],
   "source": [
    "print((trainer.data.y_no_noise_all_val[:,0].max()))\n",
    "print((trainer.data.y_no_noise_all_val[:,1].max()))\n",
    "print((trainer.data.y_no_noise_all_val[:,2].max()))\n",
    "print((trainer.data.y_no_noise_all_val[:,3].max()))"
   ]
  },
  {
   "cell_type": "code",
   "execution_count": 8,
   "metadata": {},
   "outputs": [
    {
     "data": {
      "text/plain": [
       "tensor([[ 0.0853,  0.9639,  1.4135,  1.3219],\n",
       "        [ 0.1564,  1.5478,  1.9313,  1.2336],\n",
       "        [-0.0119,  1.0324,  4.0807,  1.4247],\n",
       "        ...,\n",
       "        [-0.1350,  1.2151,  2.2279,  1.3419],\n",
       "        [ 0.3845,  1.3728,  0.7788,  1.5231],\n",
       "        [-0.1003,  1.4248,  2.7770,  1.2832]], device='cuda:0')"
      ]
     },
     "execution_count": 8,
     "metadata": {},
     "output_type": "execute_result"
    }
   ],
   "source": [
    "trainer.predictions[:,:4]"
   ]
  },
  {
   "cell_type": "code",
   "execution_count": 9,
   "metadata": {},
   "outputs": [
    {
     "data": {
      "text/plain": [
       "tensor([[ 0.7214,  0.5757,  1.6808,  3.0133],\n",
       "        [ 0.0892,  1.4726,  0.8818,  0.0783],\n",
       "        [-0.5565,  0.8234,  4.5491,  3.2219],\n",
       "        ...,\n",
       "        [-0.3293,  1.1963,  2.1750,  0.1464],\n",
       "        [ 0.5263,  1.3016,  0.8564,  0.8119],\n",
       "        [-0.2115,  1.3613,  2.1964,  0.2691]], device='cuda:0')"
      ]
     },
     "execution_count": 9,
     "metadata": {},
     "output_type": "execute_result"
    }
   ],
   "source": [
    "trainer.predictions_targets"
   ]
  },
  {
   "cell_type": "code",
   "execution_count": 16,
   "metadata": {},
   "outputs": [
    {
     "data": {
      "text/plain": [
       "tensor(4.4787, device='cuda:0')"
      ]
     },
     "execution_count": 16,
     "metadata": {},
     "output_type": "execute_result"
    }
   ],
   "source": [
    "y_no_noise_useTgts[:,3].max()"
   ]
  },
  {
   "cell_type": "code",
   "execution_count": 12,
   "metadata": {},
   "outputs": [
    {
     "name": "stdout",
     "output_type": "stream",
     "text": [
      "0 phys_loss 1.8245933e-14 gnll_loss 45.563503\n",
      "1 phys_loss 1.8245933e-14 gnll_loss 36.351574\n",
      "2 phys_loss 1.8245933e-14 gnll_loss 27.274734\n",
      "3 phys_loss 1.8245933e-14 gnll_loss 18.2513\n",
      "4 phys_loss 1.8245933e-14 gnll_loss 9.054886\n",
      "5 phys_loss 1.8245933e-14 gnll_loss -0.2631621\n",
      "6 phys_loss 1.8245933e-14 gnll_loss -9.493809\n",
      "7 phys_loss 1.8245933e-14 gnll_loss -19.022945\n",
      "8 phys_loss 1.8245933e-14 gnll_loss -27.744408\n",
      "9 phys_loss 1.8245933e-14 gnll_loss -37.17031\n",
      "10 phys_loss 1.8245933e-14 gnll_loss -46.61389\n",
      "11 phys_loss 1.8245933e-14 gnll_loss -55.536736\n",
      "12 phys_loss 1.8245933e-14 gnll_loss -65.10019\n",
      "13 phys_loss 1.8245933e-14 gnll_loss -73.88073\n",
      "14 phys_loss 1.8245933e-14 gnll_loss -83.271194\n",
      "\n",
      "0 phys_loss 1.8245933e-14 gnll_loss -83.271194\n",
      "1 phys_loss 0.06341869 gnll_loss 1.4538161e+21\n",
      "2 phys_loss 0.09564106 gnll_loss 1.3084344e+22\n",
      "3 phys_loss 0.124404736 gnll_loss 7.1236984e+22\n",
      "4 phys_loss 0.14714281 gnll_loss 3.2710865e+23\n",
      "5 phys_loss 0.16160963 gnll_loss 1.3971173e+24\n",
      "6 phys_loss 0.17009798 gnll_loss 5.770197e+24\n",
      "7 phys_loss 0.17528062 gnll_loss 2.3448597e+25\n",
      "8 phys_loss 0.17769557 gnll_loss 9.453438e+25\n",
      "9 phys_loss 0.17912085 gnll_loss 3.7962193e+26\n",
      "10 phys_loss 0.1797542 gnll_loss 1.521461e+27\n",
      "11 phys_loss 0.1800806 gnll_loss 6.091794e+27\n",
      "12 phys_loss 0.18025467 gnll_loss 2.437908e+28\n",
      "13 phys_loss 0.1803511 gnll_loss 9.754013e+28\n",
      "14 phys_loss 0.18039337 gnll_loss 3.9020816e+29\n"
     ]
    }
   ],
   "source": [
    "# get prediction\n",
    "input_x, input_y, input_x_no_noise, y_no_noise_useTgts = next(iter(trainer.test_loader))\n",
    "output = trainer.net(input_x)\n",
    "\n",
    "# change 4 params to OG values\n",
    "output_modded = output.clone()\n",
    "output_modded[:,:4] = input_y[:]\n",
    "\n",
    "##  if small uncerts mean small GNLL loss\n",
    "# magnitude of uncerts\n",
    "for i in range(0, 15):\n",
    "    uncert = t.rand([128,4], dtype=t.float32) * 10**(5-i)\n",
    "    output_modded[:,4:] = uncert[:]\n",
    "\n",
    "    # calc phys_m_loss\n",
    "    gnll_loss, phys_m_loss = trainer.crit(output_modded, input_y, input_x_no_noise, y_no_noise_useTgts, trainer.data)\n",
    "    \n",
    "    print(i , 'phys_loss', phys_m_loss.cpu().detach().numpy(), 'gnll_loss', gnll_loss.mean().cpu().detach().numpy())\n",
    "    \n",
    "print('')\n",
    "\n",
    "## if correct params mean small loss\n",
    "# magnitude of true values\n",
    "for i in range(0, 15):\n",
    "    output_modded[:,:4] = input_y[:,:4] * 2**(i)\n",
    "\n",
    "    # calc phys_m_loss\n",
    "    gnll_loss, phys_m_loss = trainer.crit(output_modded, input_y, input_x_no_noise, y_no_noise_useTgts, trainer.data)\n",
    "    \n",
    "    print(i , 'phys_loss', phys_m_loss.cpu().detach().numpy(), 'gnll_loss', gnll_loss.mean().cpu().detach().numpy())"
   ]
  },
  {
   "cell_type": "code",
   "execution_count": null,
   "metadata": {},
   "outputs": [],
   "source": [
    "input_y[:4]"
   ]
  },
  {
   "cell_type": "code",
   "execution_count": null,
   "metadata": {},
   "outputs": [],
   "source": []
  },
  {
   "cell_type": "code",
   "execution_count": 4,
   "metadata": {},
   "outputs": [],
   "source": [
    "# loading optimizer\n",
    "\n",
    "config_tmp = deepcopy(config)\n",
    "config_tmp['FORCE_CPUGPU'] = 'gpu'\n",
    "config_tmp['DATA_Y_PATH'] = \"data/testdata/20211119_WASABITI_sweep12_analytical_testdata/20211119_y_WASABITI_sweep12_analytical_testdata.pt\"\n",
    "config_tmp['DATA_X_PATH'] = \"data/testdata/20211119_WASABITI_sweep12_analytical_testdata/20211119_X_WASABITI_sweep12_analytical_testdata.pt\"\n",
    "config_tmp['LAYERS'] += ['softplus']\n",
    "config_tmp['TYPE_PARAMS'] = ['dB0','B1','T1', 'T2']\n",
    "config_tmp['NORM_TGTS'] = True\n",
    "config_tmp['NOISE'] = False\n",
    "config_tmp['BATCH_SIZE'] = {1: 128, 15:256}\n",
    "config_tmp['N_NEURONS'] = [31, 100, 100, 8]\n",
    "config_tmp['LOSS_FKT'] = 'GNLLonSigma'\n",
    "config_tmp['LOSS_FKT'] = {'FCT': 'GNLLonSigma_PhysM_alt_useTgts',\n",
    "'kwargs':{\n",
    "'x':[\n",
    "  -2., -1.86666667, -1.73333333, -1.6, -1.46666667, -1.33333333, -1.2, -1.06666667, \n",
    "    -0.933333333, -0.8, -0.666666667, -0.533333333, -0.4, -0.266666667, -0.133333333, \n",
    "    0., 0.133333333, 0.266666667, 0.4, 0.533333333, 0.666666667, 0.8, 0.933333333, 1.06666667, \n",
    "    1.2, 1.33333333, 1.46666667, 1.6, 1.73333333,1.86666667, 2.],\n",
    "'trec':[\n",
    "0.5, 1, 1.5, 2, 2.5, 3, 1.5, 1.5, 1.5, 1.5, 1.5, 1.5, 1.5, 1.5, 1.5, 1.5, 1.5, \n",
    "    1.5, 1.5, 1.5, 1.5, 1.5, 1.5, 1.5, 1.5, 3, 2.5, 2, 1.5, 1, 0.5],\n",
    "'lambda_fact': 3.}}\n",
    "\n",
    "\n",
    "data = Data()\n",
    "data.load_data_tensor(config_tmp, printing=False)\n",
    "trainer = Trainer(data, use_tb=False)"
   ]
  },
  {
   "cell_type": "code",
   "execution_count": 5,
   "metadata": {},
   "outputs": [
    {
     "name": "stderr",
     "output_type": "stream",
     "text": [
      "100%|####| 2/2 [00:10<00:00,  5.06s/it, sum loss=-1, val sum loss=-1.3, epoch=2]\n"
     ]
    }
   ],
   "source": [
    "trainer.train(2)"
   ]
  },
  {
   "cell_type": "code",
   "execution_count": 6,
   "metadata": {},
   "outputs": [
    {
     "name": "stdout",
     "output_type": "stream",
     "text": [
      "None\n"
     ]
    }
   ],
   "source": [
    "config_tmp['OPTIMIZER'] = {3: 'Adam', '3_kwargs':{'lr':0.000001}}\n",
    "\n",
    "data = Data()\n",
    "data.load_data_tensor(config_tmp, printing=False)\n",
    "trainer = Trainer(data, use_tb=False)\n",
    "trainer.config\n",
    "print(trainer.opt)"
   ]
  },
  {
   "cell_type": "code",
   "execution_count": 7,
   "metadata": {},
   "outputs": [
    {
     "name": "stdout",
     "output_type": "stream",
     "text": [
      "Warning! Be aware that the two config files are different!\n",
      "Adam (\n",
      "Parameter Group 0\n",
      "    amsgrad: False\n",
      "    betas: (0.9, 0.999)\n",
      "    eps: 1e-08\n",
      "    lr: 0.0001\n",
      "    weight_decay: 0\n",
      ")\n"
     ]
    }
   ],
   "source": [
    "trainer.load_net(str('output/tests/test_config_model_autosave.pt'))\n",
    "print(trainer.opt)"
   ]
  },
  {
   "cell_type": "code",
   "execution_count": 8,
   "metadata": {},
   "outputs": [
    {
     "name": "stderr",
     "output_type": "stream",
     "text": [
      "100%|#| 1/1 [00:05<00:00,  5.19s/it, sum loss=-1.33, val sum loss=-1.38, epoch=3\n"
     ]
    }
   ],
   "source": [
    "trainer.train(1)"
   ]
  },
  {
   "cell_type": "code",
   "execution_count": 9,
   "metadata": {},
   "outputs": [
    {
     "data": {
      "text/plain": [
       "Adam (\n",
       "Parameter Group 0\n",
       "    amsgrad: False\n",
       "    betas: (0.9, 0.999)\n",
       "    eps: 1e-08\n",
       "    lr: 1e-06\n",
       "    weight_decay: 0\n",
       ")"
      ]
     },
     "execution_count": 9,
     "metadata": {},
     "output_type": "execute_result"
    }
   ],
   "source": [
    "trainer.opt"
   ]
  },
  {
   "cell_type": "code",
   "execution_count": 12,
   "metadata": {},
   "outputs": [
    {
     "data": {
      "text/plain": [
       "'Adam'"
      ]
     },
     "execution_count": 12,
     "metadata": {},
     "output_type": "execute_result"
    }
   ],
   "source": [
    "trainer.config['OPTIMIZER'].get(3)"
   ]
  },
  {
   "cell_type": "code",
   "execution_count": 17,
   "metadata": {},
   "outputs": [
    {
     "data": {
      "text/plain": [
       "{3: 'Adam', '3_kwargs': {'lr': 1e-06}}"
      ]
     },
     "execution_count": 17,
     "metadata": {},
     "output_type": "execute_result"
    }
   ],
   "source": [
    "t.load('output/tests/test_config_model_autosave.pt')['config'].get('OPTIMIZER')"
   ]
  },
  {
   "cell_type": "markdown",
   "metadata": {},
   "source": [
    "# test Monte-Carlo Dropout"
   ]
  },
  {
   "cell_type": "code",
   "execution_count": null,
   "metadata": {},
   "outputs": [],
   "source": [
    "try:\n",
    "    config_tmp = deepcopy(config)\n",
    "    config_tmp['LOSS_FKT'] = 'MSELoss'\n",
    "    config_tmp['LAYERS'] = ['linear', 'elu', 'dropout', 'linear', 'elu', 'linear']\n",
    "    config_tmp['LAYER_KWARGS'] = {0: {'bias': True}, 3: {'bias': True}, 5: {'bias': True}}\n",
    "    config_tmp['N_NEURONS'][-1] = 4\n",
    "    config_tmp['MONTECARLODROPOUT'] = True\n",
    "    data = Data()\n",
    "    data.load_data_tensor(config_tmp, printing=False)\n",
    "    trainer = Trainer(data)\n",
    "    trainer.train(2)\n",
    "\n",
    "    # first prediction\n",
    "    evalwasabi = EvalWasabi(trainer, data_type='BMCTool')\n",
    "    evalwasabi.predict()\n",
    "    var1 = evalwasabi.trainer[0].predictions.clone().detach()\n",
    "\n",
    "    # second prdiction\n",
    "    evalwasabi.predict()\n",
    "    var2 = evalwasabi.trainer[0].predictions.clone().detach()\n",
    "\n",
    "    # comparison has to be different\n",
    "    assert not np.all(var1.numpy()==var2.numpy())\n",
    "    \n",
    "    \n",
    "    del data, trainer, config_tmp, var1, var2, evalwasabi\n",
    "    \n",
    "    print(\"\\033[0;30;42m GOOD \\033[0m\")\n",
    "except:\n",
    "    traceback.print_exc()\n",
    "    print(\"\\033[0;30;41m ERROR \\033[0m\")"
   ]
  },
  {
   "cell_type": "code",
   "execution_count": null,
   "metadata": {},
   "outputs": [],
   "source": []
  },
  {
   "cell_type": "code",
   "execution_count": null,
   "metadata": {},
   "outputs": [],
   "source": [
    "assert 1==2 # interrupt"
   ]
  },
  {
   "cell_type": "code",
   "execution_count": null,
   "metadata": {},
   "outputs": [],
   "source": []
  },
  {
   "cell_type": "markdown",
   "metadata": {},
   "source": [
    "# Still unfinished"
   ]
  },
  {
   "cell_type": "code",
   "execution_count": null,
   "metadata": {},
   "outputs": [],
   "source": [
    "loaded_model = load('output/tests/test_config_model_autosave.pt')\n",
    "loaded_model.keys()"
   ]
  },
  {
   "cell_type": "code",
   "execution_count": null,
   "metadata": {},
   "outputs": [],
   "source": [
    "loaded_model['time_trained']"
   ]
  },
  {
   "cell_type": "code",
   "execution_count": null,
   "metadata": {},
   "outputs": [],
   "source": [
    "data2 = Data()\n",
    "data2.load_data_tensor(config)\n",
    "trainer2 = Trainer(data2)\n",
    "trainer2.load_net('output/tests/test_config_model_autosave.pt')\n",
    "trainer2.train(1)"
   ]
  },
  {
   "cell_type": "code",
   "execution_count": null,
   "metadata": {},
   "outputs": [],
   "source": [
    "evalwasabi = EvalWasabi('output/tests/test_config_model_autosave.pt', 'BMCTool')"
   ]
  },
  {
   "cell_type": "code",
   "execution_count": null,
   "metadata": {},
   "outputs": [],
   "source": [
    "print(evalwasabi.predict(show_test_set_loss=True, ret=True))\n",
    "evalwasabi.parameter_min_max_check()"
   ]
  },
  {
   "cell_type": "code",
   "execution_count": null,
   "metadata": {},
   "outputs": [],
   "source": [
    "evalwasabi.trainer.epochCount"
   ]
  },
  {
   "cell_type": "code",
   "execution_count": null,
   "metadata": {},
   "outputs": [],
   "source": [
    "predictions = []\n",
    "for i in range(31):\n",
    "    x = t.zeros((1,31), dtype=t.float)\n",
    "    x[0,i] += 1\n",
    "    y = t.zeros((1,4), dtype=t.float)\n",
    "    evalwasabi2 = EvalWasabi('output/tests/test_config_model_autosave.pt', 'BMCTool',\n",
    "                             x_file=x,\n",
    "                             y_file=y)\n",
    "                             #create_zeros_tgts=True)\n",
    "    evalwasabi2.predict()\n",
    "    predictions += [evalwasabi2.trainer.predictions]"
   ]
  },
  {
   "cell_type": "code",
   "execution_count": null,
   "metadata": {
    "scrolled": false
   },
   "outputs": [],
   "source": [
    "normed = [predictions[i][0][:4].norm() for i in range(len(predictions))]\n",
    "\n",
    "for i in range(len(predictions)):\n",
    "    print('{:.2e}  {:.1e} {:.1e} {:.1e} {:.1e} {:.1e} {:.1e} {:.1e} {:.1e}'.format(normed[i],\n",
    "                                                                           predictions[i][0][0],\n",
    "                                                                           predictions[i][0][1],\n",
    "                                                                           predictions[i][0][2],\n",
    "                                                                           predictions[i][0][3],\n",
    "                                                                           predictions[i][0][4],\n",
    "                                                                           predictions[i][0][5],\n",
    "                                                                           predictions[i][0][6],\n",
    "                                                                           predictions[i][0][7]))"
   ]
  },
  {
   "cell_type": "code",
   "execution_count": null,
   "metadata": {},
   "outputs": [],
   "source": [
    "\n",
    "tmp_filepath = os.path.join(config['OUTPUT_DIR'], config['CONFIG_NAME'])\n",
    "type(glob.glob(tmp_filepath + '_best_model_save.pt'))"
   ]
  },
  {
   "cell_type": "code",
   "execution_count": null,
   "metadata": {},
   "outputs": [],
   "source": []
  }
 ],
 "metadata": {
  "kernelspec": {
   "display_name": "Python 3 (ipykernel)",
   "language": "python",
   "name": "python3"
  },
  "language_info": {
   "codemirror_mode": {
    "name": "ipython",
    "version": 3
   },
   "file_extension": ".py",
   "mimetype": "text/x-python",
   "name": "python",
   "nbconvert_exporter": "python",
   "pygments_lexer": "ipython3",
   "version": "3.8.12"
  }
 },
 "nbformat": 4,
 "nbformat_minor": 4
}
