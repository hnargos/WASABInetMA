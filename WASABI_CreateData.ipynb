{
 "cells": [
  {
   "cell_type": "markdown",
   "metadata": {},
   "source": [
    "# Imports"
   ]
  },
  {
   "cell_type": "code",
   "execution_count": null,
   "metadata": {},
   "outputs": [],
   "source": [
    "# Standard library imports\n",
    "import os\n",
    "import time\n",
    "\n",
    "# Third party imports\n",
    "import numpy as np\n",
    "import matplotlib.pyplot as plt\n",
    "from scipy import stats\n",
    "from torch import as_tensor as pytT\n",
    "from torch import float32 as pytFl32\n",
    "from torch import save\n",
    "\n",
    "from bmctool.bmc_tool import BMCTool\n",
    "from bmctool.set_params import load_params\n",
    "\n",
    "%matplotlib inline"
   ]
  },
  {
   "cell_type": "markdown",
   "metadata": {},
   "source": [
    "# Define parameter and seq files"
   ]
  },
  {
   "cell_type": "code",
   "execution_count": null,
   "metadata": {},
   "outputs": [],
   "source": [
    "config_file = 'library/config_WASABITI.yaml'\n",
    "seq_file = 'library/WASABITI_sim.seq'"
   ]
  },
  {
   "cell_type": "markdown",
   "metadata": {},
   "source": [
    "# Load sample and experimental settings from configs\n",
    "parameters can be printed using `sim_params.print_settings()`"
   ]
  },
  {
   "cell_type": "code",
   "execution_count": null,
   "metadata": {},
   "outputs": [],
   "source": [
    "sim_params = load_params(config_file)"
   ]
  },
  {
   "cell_type": "markdown",
   "metadata": {},
   "source": [
    "# Define parameter spaces\n",
    "### Number of samples for different sizes:\n",
    "- tiny: 4,096\n",
    "- small: 65,536\n",
    "- medium: 589,824\n",
    "- large: 2,359,296"
   ]
  },
  {
   "cell_type": "code",
   "execution_count": null,
   "metadata": {},
   "outputs": [],
   "source": [
    "param_size = 'tiny'  # can be 'tiny', 'small', 'medium' or 'large'\n",
    "\n",
    "\n",
    "##################################################################\n",
    "# B0-shift range\n",
    "##################################################################\n",
    "b0_sizes = {'tiny': 8, 'small': 16, 'medium': 24, 'large': 32}\n",
    "b0_size = b0_sizes[param_size]\n",
    "\n",
    "b0_dist = stats.norm(loc=0, scale=0.35)\n",
    "b0_lim = [-1, 1]\n",
    "b0_bounds = b0_dist.cdf(b0_lim)\n",
    "b0_pp = np.linspace(*b0_bounds, num=b0_size)\n",
    "b0_var = b0_dist.ppf(b0_pp)\n",
    "\n",
    "##################################################################\n",
    "# B1 range\n",
    "##################################################################\n",
    "b1_sizes = {'tiny': 8, 'small': 16, 'medium': 32, 'large': 48}\n",
    "b1_size = b1_sizes[param_size]\n",
    "\n",
    "b1_dist = stats.norm(loc=1, scale=0.45)\n",
    "b1_lim = [0.1, 1.9]\n",
    "b1_bounds = b1_dist.cdf(b1_lim)\n",
    "b1_pp = np.linspace(*b1_bounds, num=b1_size)\n",
    "b1_var = b1_dist.ppf(b1_pp)\n",
    "\n",
    "##################################################################\n",
    "# T1 range\n",
    "##################################################################\n",
    "t1_sizes = {'tiny': 8, 'small': 16, 'medium': 32, 'large': 48}\n",
    "t1_size = t1_sizes[param_size]\n",
    "\n",
    "class sum_gaussians_t1(stats.rv_continuous):\n",
    "    def _pdf(self, x):\n",
    "        return (stats.norm.pdf(x, loc=3, scale=2) + stats.norm.pdf(x, loc=1.2, scale=0.6)) / 2\n",
    "    \n",
    "t1_dist = sum_gaussians_t1()\n",
    "t1_lim = [0.05, 7]\n",
    "t1_bounds = t1_dist.cdf(t1_lim)\n",
    "t1_pp = np.linspace(*t1_bounds, num=t1_size)\n",
    "t1_var = t1_dist.ppf(t1_pp)\n",
    "\n",
    "\n",
    "##################################################################\n",
    "# T2 range\n",
    "##################################################################\n",
    "t2_sizes = {'tiny': 8, 'small': 16, 'medium': 24, 'large': 32}\n",
    "t2_size = t2_sizes[param_size]\n",
    "\n",
    "class sum_gaussians_t2(stats.rv_continuous):\n",
    "    def _pdf(self, x):\n",
    "        return (4 * stats.norm.pdf(x, loc=2, scale=2) + stats.norm.pdf(x, loc=0.15, scale=0.1)) / 5\n",
    "    \n",
    "t2_dist = sum_gaussians_t2()\n",
    "t2_lim = [0.01, 5]\n",
    "t2_bounds = t2_dist.cdf(t2_lim)\n",
    "t2_pp = np.linspace(*t2_bounds, num=t2_size)\n",
    "t2_var = t2_dist.ppf(t2_pp)\n",
    "\n",
    "n_total = len(b0_var)*len(b1_var)*len(t1_var)*len(t2_var)"
   ]
  },
  {
   "cell_type": "markdown",
   "metadata": {},
   "source": [
    "# Define output settings"
   ]
  },
  {
   "cell_type": "code",
   "execution_count": null,
   "metadata": {},
   "outputs": [],
   "source": [
    "# create save data directory\n",
    "filepath_output = 'data'\n",
    "if not os.path.exists(filepath_output):\n",
    "    os.makedirs(filepath_output)\n",
    "    print('created a new folder for the data')\n",
    "    \n",
    "subfolder_name = 'example_' + param_size\n",
    "subfolder_path = os.path.join(filepath_output, subfolder_name)\n",
    "if not os.path.exists(subfolder_path):\n",
    "    os.makedirs(subfolder_path)\n",
    "    print(f'created a new subfolder \"{subfolder_name}\" in {filepath_output} folder')"
   ]
  },
  {
   "cell_type": "markdown",
   "metadata": {},
   "source": [
    "# Print parameter distributions"
   ]
  },
  {
   "cell_type": "code",
   "execution_count": null,
   "metadata": {},
   "outputs": [],
   "source": [
    "fig, ax = plt.subplots(2,2, figsize=(14,10))\n",
    "fig.suptitle(f'Parameter Distributions (size = \"{param_size}\" ({n_total} samples))', fontsize=24)\n",
    "\n",
    "# print B0 values\n",
    "x = np.linspace(min(b0_lim), max(b0_lim), 1000)\n",
    "ax[0,0].plot(x, b0_dist.pdf(x), '-', label='pdf')\n",
    "ax[0,0].plot(b0_var, [-0.1] * b0_var.size, '.', label='samples')\n",
    "ax[0,0].set_title(f'B$_0$ ({b0_var.size} samples)', fontsize=16)\n",
    "ax[0,0].legend()\n",
    "\n",
    "# print B1 values\n",
    "x = np.linspace(min(b1_lim), max(b1_lim), 1000)\n",
    "ax[0,1].plot(x, b1_dist.pdf(x), '-', label='pdf')\n",
    "ax[0,1].plot(b1_var, [-0.1] * b1_var.size, '.', label='samples')\n",
    "ax[0,1].set_title(f'B$_1$ ({b1_var.size} samples)', fontsize=16)\n",
    "ax[0,1].legend()\n",
    "\n",
    "# print T1 values\n",
    "x = np.linspace(min(t1_lim), max(t1_lim), 1000)\n",
    "ax[1,0].plot(x, t1_dist.pdf(x), '-', label='pdf')\n",
    "ax[1,0].plot(t1_var, [-0.1] * t1_var.size, '.', label='samples')\n",
    "ax[1,0].set_title(f'T$_1$ ({t1_var.size} samples)', fontsize=16)\n",
    "ax[1,0].legend()\n",
    "\n",
    "# print T2 values\n",
    "x = np.linspace(min(t2_lim), max(t2_lim), 1000)\n",
    "ax[1,1].plot(x, t2_dist.pdf(x), '-', label='pdf')\n",
    "ax[1,1].plot(t2_var, [-0.1] * t2_var.size, '.', label='samples')\n",
    "ax[1,1].set_title(f'T$_2$ ({t2_var.size} samples)', fontsize=16)\n",
    "ax[1,1].legend()"
   ]
  },
  {
   "cell_type": "markdown",
   "metadata": {},
   "source": [
    "# Run simulation"
   ]
  },
  {
   "cell_type": "code",
   "execution_count": null,
   "metadata": {},
   "outputs": [],
   "source": [
    "pars = []\n",
    "spec_array = np.zeros([len(b0_var), len(b1_var), len(t1_var), len(t2_var), 31], dtype='float16')\n",
    "\n",
    "Sim = BMCTool(sim_params, seq_file)\n",
    "print(f'Simulating {n_total} z-spectra.\\n')\n",
    "count = 0\n",
    "n_progressbar = len(b0_var)*len(b1_var)*len(t1_var)\n",
    "loopstart = time.time()\n",
    "for i, dw_ in enumerate(b0_var):\n",
    "    sim_params.update_scanner(b0_inhom=dw_)\n",
    "    for j, rb1_ in enumerate(b1_var):\n",
    "        sim_params.update_scanner(rel_b1=rb1_)\n",
    "        for k, t1_ in enumerate(t1_var):\n",
    "            sim_params.update_water_pool(r1=1/t1_)\n",
    "            for l, t2_ in enumerate(t2_var):\n",
    "                sim_params.update_water_pool(r2=1/t2_)\n",
    "                \n",
    "                # update parameters and run simulation\n",
    "                Sim.params = sim_params\n",
    "                Sim.run()\n",
    "                \n",
    "                # write spectrum and parameters\n",
    "                _, spec_array[i,j,k,l,:] = Sim.get_zspec()\n",
    "                pars.append([dw_, rb1_, t1_, t2_])\n",
    "                       \n",
    "            # update progress bar and estimated time\n",
    "            b = int(60 * count / n_progressbar)\n",
    "            left = int(60 - b)\n",
    "            count += 1\n",
    "            loopremain = (time.time() - loopstart) * (n_progressbar - count) / (count * 60)\n",
    "            print('[' + '#' * b + '-' * left + ']' + \n",
    "                  f' Estimated remaining time {loopremain:.1f} minutes.', end='\\r')\n",
    "\n",
    "print(' \\n ')\n",
    "print(f'Simulation took {(time.time()-loopstart)/60:.3f} minutes')"
   ]
  },
  {
   "cell_type": "markdown",
   "metadata": {},
   "source": [
    "# Reshape & Save"
   ]
  },
  {
   "cell_type": "code",
   "execution_count": null,
   "metadata": {},
   "outputs": [],
   "source": [
    "# reshape data and convert to pytorch tensor\n",
    "X = pytT(spec_array.reshape([-1, 31]), dtype=pytFl32)\n",
    "y = pytT(np.array(pars), dtype=pytFl32)\n",
    "\n",
    "# save data with pytorch\n",
    "filepath_save_X = os.path.join(subfolder_path, f'{time.strftime(\"%Y%m%d\")}_X_discrete_{param_size}_{n_total}_samples.pt')\n",
    "filepath_save_y = os.path.join(subfolder_path, f'{time.strftime(\"%Y%m%d\")}_y_discrete_{param_size}_{n_total}_samples.pt')\n",
    "\n",
    "save (X, filepath_save_X)\n",
    "save (y, filepath_save_y)"
   ]
  }
 ],
 "metadata": {
  "celltoolbar": "Attachments",
  "kernelspec": {
   "display_name": "Python 3",
   "language": "python",
   "name": "python3"
  },
  "language_info": {
   "codemirror_mode": {
    "name": "ipython",
    "version": 3
   },
   "file_extension": ".py",
   "mimetype": "text/x-python",
   "name": "python",
   "nbconvert_exporter": "python",
   "pygments_lexer": "ipython3",
   "version": "3.7.9"
  }
 },
 "nbformat": 4,
 "nbformat_minor": 4
}
