{
 "cells": [
  {
   "cell_type": "markdown",
   "metadata": {},
   "source": [
    "# Imports"
   ]
  },
  {
   "cell_type": "code",
   "execution_count": 1,
   "metadata": {},
   "outputs": [],
   "source": [
    "# Standard library imports\n",
    "import os\n",
    "import time\n",
    "import pathlib\n",
    "import pkg_resources\n",
    "\n",
    "# Third party imports\n",
    "import numpy as np\n",
    "import matplotlib.pyplot as plt\n",
    "from scipy import stats\n",
    "from torch import as_tensor as pytT\n",
    "from torch import float32 as pytFl32\n",
    "from torch import save\n",
    "\n",
    "import bmctool\n",
    "from bmctool.bmc_tool import BMCTool\n",
    "from bmctool.set_params import load_params\n",
    "\n",
    "%matplotlib inline"
   ]
  },
  {
   "cell_type": "markdown",
   "metadata": {},
   "source": [
    "# Check BMCTool version (used version = 0.4.0)"
   ]
  },
  {
   "cell_type": "code",
   "execution_count": 2,
   "metadata": {},
   "outputs": [
    {
     "data": {
      "text/plain": [
       "BMCTool 0.4.0 (/data/schuen02/envs/wanted_p37/lib/python3.7/site-packages)"
      ]
     },
     "execution_count": 2,
     "metadata": {},
     "output_type": "execute_result"
    }
   ],
   "source": [
    "pkg_resources.get_distribution('bmctool')"
   ]
  },
  {
   "cell_type": "markdown",
   "metadata": {},
   "source": [
    "# Define analytical model for data generation"
   ]
  },
  {
   "cell_type": "code",
   "execution_count": 3,
   "metadata": {},
   "outputs": [],
   "source": [
    "def wasabiti(x: np.ndarray,\n",
    "             trec: np.ndarray,\n",
    "             b0_shift: float = 0,\n",
    "             b1: float = 3.75,\n",
    "             t1: float = 2,\n",
    "             t2: float = 0.1,\n",
    "             freq: float = 127.7292,\n",
    "             tp: float = 0.005,\n",
    "             b1nom: float = 3.75,\n",
    "             gamma: float = 42.5764,\n",
    "             return_abs = True\n",
    "             ) -> np.ndarray:\n",
    "    \"\"\"Full Analytical WASABI approximation depending on b0_shift, B1, T1 and T2\n",
    "    :param x: frequency offsets [ppm]\n",
    "    :param trec: recover time between different offsets/measurements. Can be a float or an array [s]\n",
    "    :param b0_shift: b0_shift-shift [ppm]\n",
    "    :param b1: B1 peak amplitude [µT]\n",
    "    :param t1: longitudinal relaxation time (T_1) [s]\n",
    "    :param t2: transversal relaxation time (T_2) [s]\n",
    "    :param freq: frequency of the NMR system [MHz] (e.g. 128 for a 3T scanner)\n",
    "    :param tp: duration of the WASABI pulse [s]\n",
    "    :param b1nom: nominal B1 of the WASABI pulse [µT]\n",
    "    :param gamma: gyromagnetic ratio [MHz/T]\n",
    "    \"\"\"\n",
    "\n",
    "    da = (x + b0_shift) * freq * 2 * np.pi\n",
    "    w1 = gamma * b1 * 2 * np.pi * b1nom\n",
    "    dawi = da ** 2 + w1 ** 2\n",
    "\n",
    "    r1 = 1 / t1\n",
    "    r2 = 1 / t2\n",
    "    r1p = (r1 * da ** 2) / (da ** 2 + w1 ** 2) + (r2 * w1 ** 2) / (da ** 2 + w1 ** 2)\n",
    "    r2p = (2 * r2 + r1) / 2 - r1p / 2  # according to https://doi.org/10.1016/j.mri.2013.07.004\n",
    "    \n",
    "    # calculate magnetization just before the WASABI pulse is applied (after T1prep pulse + trec delay)\n",
    "    mzi = 1 - np.exp(-r1 * trec)  # magnetization\n",
    "\n",
    "    # calculate magnetization after the WASABI pulse\n",
    "    m = mzi * ((da ** 2 * np.exp(-r1p * tp)) / dawi + (w1 ** 2 * np.cos(np.sqrt(dawi) * tp)) *\n",
    "                      np.exp(-r2p * tp) / dawi) + (r1 * da ** 2) / (r1p * dawi) * (1 - np.exp(-r1p * tp))\n",
    "    \n",
    "    # calculate magnetization after the rf dead_time and subsequent spoiler gradient\n",
    "    m = m + (1 - m) * (1 - np.exp(-r1 * 0.00553))  # 30 µs dead_time + 5.5 ms spoiler duration\n",
    "                       \n",
    "    # return magnetization\n",
    "    if return_abs:\n",
    "        return abs(m)\n",
    "    else:\n",
    "        return m"
   ]
  },
  {
   "cell_type": "markdown",
   "metadata": {},
   "source": [
    "# Define all files/configs/parameters"
   ]
  },
  {
   "cell_type": "code",
   "execution_count": 15,
   "metadata": {},
   "outputs": [],
   "source": [
    "# select config and seq file\n",
    "config_name = 'config_WASABITI_sequential'\n",
    "seq_name = '20210706_WASABITI_sweep12_sim'\n",
    "\n",
    "# select size\n",
    "dist_sizes = {'tiny': 2 ** 12, 'small': 2 ** 15, 'medium': 2 ** 18, 'large': 2 ** 21}\n",
    "my_size = 'small'  # can be 'tiny', 'small', 'medium' or 'large'"
   ]
  },
  {
   "cell_type": "markdown",
   "metadata": {},
   "source": [
    "# Load settings from configs and define size"
   ]
  },
  {
   "cell_type": "code",
   "execution_count": 5,
   "metadata": {},
   "outputs": [
    {
     "name": "stdout",
     "output_type": "stream",
     "text": [
      "\n",
      " Current parameter settings:\n",
      "\t water pool:\n",
      " {'r1': 0.7692307692307692, 'r2': 13.333333333333334, 'f': 1}\n",
      "\t CEST pools: \n",
      " []\n",
      "\t MT pool:\n",
      " {}\n",
      "\t Scanner:\n",
      " {'b0': 3, 'gamma': 267.5153, 'b0_inhomogeneity': 0.0, 'rel_b1': 1}\n",
      "\t Options:\n",
      " {'verbose': False, 'reset_init_mag': True, 'scale': 0.0, 'max_pulse_samples': 300, 'par_calc': False}\n"
     ]
    }
   ],
   "source": [
    "config_file = os.path.join('library', config_name + '.yaml')\n",
    "seq_file = os.path.join('library', seq_name + '.seq')\n",
    "\n",
    "sim_params = load_params(config_file)\n",
    "sim_params.print_settings()"
   ]
  },
  {
   "cell_type": "markdown",
   "metadata": {},
   "source": [
    "# Define output folder and name"
   ]
  },
  {
   "cell_type": "code",
   "execution_count": 16,
   "metadata": {},
   "outputs": [
    {
     "name": "stdout",
     "output_type": "stream",
     "text": [
      "created a new subfolder \"/data/schuen02/train_data/example_small/20211119_20210706_WASABITI_sweep12_sim_analytical_testdata\" in /data/schuen02/train_data/example_small folder\n"
     ]
    }
   ],
   "source": [
    "name_addition = '_analytical_testdata'\n",
    "\n",
    "filepath_output = pathlib.Path.home().parent.parent / 'data' / 'schuen02' / 'train_data'\n",
    "if not os.path.exists(filepath_output):\n",
    "    os.makedirs(filepath_output)\n",
    "    print('created a new folder for the data')\n",
    "    \n",
    "sizefolder_name = 'example_' + my_size\n",
    "sizefolder_path = os.path.join(filepath_output, sizefolder_name)\n",
    "if not os.path.exists(sizefolder_path):\n",
    "    os.makedirs(sizefolder_path)\n",
    "    print(f'created a new subfolder \"{sizefolder_path}\" in {filepath_output} folder')\n",
    "    \n",
    "subfolder_name = f'{time.strftime(\"%Y%m%d\")}_{seq_name}{name_addition}'\n",
    "subfolder_path = os.path.join(sizefolder_path, subfolder_name)\n",
    "if not os.path.exists(subfolder_path):\n",
    "    os.makedirs(subfolder_path)\n",
    "    print(f'created a new subfolder \"{subfolder_path}\" in {sizefolder_path} folder')"
   ]
  },
  {
   "cell_type": "markdown",
   "metadata": {},
   "source": [
    "# Create T1 and T2 distributions"
   ]
  },
  {
   "cell_type": "code",
   "execution_count": 17,
   "metadata": {},
   "outputs": [],
   "source": [
    "##################################################################\n",
    "# B0 distribution\n",
    "##################################################################\n",
    "\n",
    "b0_lim = [-1.0, 1.0]\n",
    "b0_mean = 0\n",
    "b0_scale = 0.6\n",
    "\n",
    "b0_dist = stats.truncnorm((b0_lim[0] - b0_mean) / b0_scale, \n",
    "                          (b0_lim[1] - b0_mean) / b0_scale,\n",
    "                          loc=b0_mean, \n",
    "                          scale=b0_scale)\n",
    "\n",
    "##################################################################\n",
    "# B1 distribution\n",
    "##################################################################\n",
    "\n",
    "b1_lim = [0.2, 2.0]\n",
    "b1_mean = 1\n",
    "b1_scale = 0.7\n",
    "\n",
    "b1_dist = stats.truncnorm((b1_lim[0] - b1_mean) / b1_scale, \n",
    "                          (b1_lim[1] - b1_mean) / b1_scale,\n",
    "                          loc=b1_mean, \n",
    "                          scale=b1_scale)\n",
    "\n",
    "\n",
    "##################################################################\n",
    "# T1 distribution\n",
    "##################################################################\n",
    "t1_lim = [0.05, 7]\n",
    "t1_mean = [1.5, 0]\n",
    "t1_scale = [0.75, 3.5]        \n",
    "    \n",
    "t1_dist1 = stats.truncnorm(a=(t1_lim[0] - t1_mean[0]) / t1_scale[0],\n",
    "                           b=(t1_lim[1] - t1_mean[0]) / t1_scale[0],\n",
    "                           loc=t1_mean[0], \n",
    "                           scale=t1_scale[0])\n",
    "\n",
    "t1_dist2 = stats.truncnorm(a=(t1_lim[0] - t1_mean[1]) / t1_scale[1],\n",
    "                           b=(t1_lim[1] - t1_mean[1]) / t1_scale[1],\n",
    "                           loc=t1_mean[1], \n",
    "                           scale=t1_scale[1])\n",
    "\n",
    "t1_vals = np.append(t1_dist1.rvs(size=int(10e6)),t1_dist2.rvs(size=int(10e6)))\n",
    "\n",
    "##################################################################\n",
    "# T2 distribution\n",
    "##################################################################\n",
    "t2_lim = [0.005, 5]\n",
    "t2_mean = [0.20, 0]\n",
    "t2_scale = [0.1, 2.5]        \n",
    "    \n",
    "t2_dist1 = stats.truncnorm(a=(t2_lim[0] - t2_mean[0]) / t2_scale[0],\n",
    "                           b=(t2_lim[1] - t2_mean[0]) / t2_scale[0],\n",
    "                           loc=t2_mean[0], \n",
    "                           scale=t2_scale[0])\n",
    "\n",
    "t2_dist2 = stats.truncnorm(a=(t2_lim[0] - t2_mean[1]) / t2_scale[1],\n",
    "                           b=(t2_lim[1] - t2_mean[1]) / t2_scale[1],\n",
    "                           loc=t2_mean[1], \n",
    "                           scale=t2_scale[1])\n",
    "\n",
    "\n",
    "\n",
    "t2_vals = np.append(t2_dist1.rvs(size=int(5e6)),t2_dist2.rvs(size=int(15e6)))"
   ]
  },
  {
   "cell_type": "markdown",
   "metadata": {},
   "source": [
    "# Run simulation"
   ]
  },
  {
   "cell_type": "code",
   "execution_count": 18,
   "metadata": {},
   "outputs": [
    {
     "name": "stdout",
     "output_type": "stream",
     "text": [
      "Simulating 32768 z-spectra.\n",
      "\n",
      "Running simulations for 20210706_WASABITI_sweep12_sim now.\n",
      " ##########################################################--] Estimated remaining time 0.0 minutes..\n",
      " \n",
      "Simulation took 0.243 minutes\n"
     ]
    }
   ],
   "source": [
    "pars = []\n",
    "specs = []\n",
    "\n",
    "\n",
    "trec = np.array([0.5, 1.0, 1.5, 2.0, 2.5, 3.0] + [1.5]*19 + [3.0, 2.5, 2.0, 1.5, 1.0, 0.5])\n",
    "\n",
    "Sim = BMCTool(sim_params, seq_file, verbose=False)\n",
    "print(f'Simulating {dist_sizes[my_size]} z-spectra.\\n')\n",
    "\n",
    "n_t1 = t1_vals.size\n",
    "n_t2 = t2_vals.size\n",
    "\n",
    "loopstart = time.time()\n",
    "print(f'Running simulations for {seq_name} now.')\n",
    "for n in range(dist_sizes[my_size]):\n",
    "    b0_ = b0_dist.rvs(size=1)[0]\n",
    "    b1_ = b1_dist.rvs(size=1)[0]\n",
    "    t1_ = t1_vals[np.random.randint(n_t1)]\n",
    "    t2_ = t2_vals[np.random.randint(n_t2)]\n",
    "    \n",
    "    if n == 0:\n",
    "        sim_params.update_scanner(b0_inhom=b0_, rel_b1=b1_)\n",
    "        sim_params.update_water_pool(r1=1/t1_, r2=1/t2_)\n",
    "\n",
    "        # update parameters and run simulation\n",
    "        Sim.params = sim_params\n",
    "        Sim.run()\n",
    "\n",
    "        # write spectrum and parameters\n",
    "        num_spec = Sim.get_zspec(return_abs=False)[1]\n",
    "\n",
    "    spec = wasabiti(x=np.linspace(-2, 2, 31),\n",
    "                    trec=trec,\n",
    "                    b0_shift=b0_,\n",
    "                    b1=b1_,\n",
    "                    t1=t1_,\n",
    "                    t2=t2_,\n",
    "                    freq=127.7292,\n",
    "                    tp=0.005,\n",
    "                    b1nom=3.75,\n",
    "                    gamma=42.5764,\n",
    "                    return_abs = False)\n",
    "    \n",
    "    specs.append(spec)\n",
    "    pars.append([b0_, b1_, t1_, t2_])\n",
    "    \n",
    "    # update progress bar and estimated time\n",
    "    if n%1000 == 0:\n",
    "        b = int(60 * (n+1) / dist_sizes[my_size])\n",
    "        left = int(60 - b)\n",
    "        loopremain = (time.time() - loopstart) * (dist_sizes[my_size] - (n+1)) / ((n+1) * 60)\n",
    "        print('[' + '#' * b + '-' * left + ']' + \n",
    "              f' Estimated remaining time {loopremain:.1f} minutes.', end='\\r')\n",
    "\n",
    "# convert lists to arrays\n",
    "specs = np.array(specs)\n",
    "pars = np.array(pars)\n",
    "\n",
    "print(' \\n ')\n",
    "print(f'Simulation took {(time.time() - loopstart) / 60:.3f} minutes')\n"
   ]
  },
  {
   "cell_type": "markdown",
   "metadata": {},
   "source": [
    "# Plot histrograms of param values"
   ]
  },
  {
   "cell_type": "code",
   "execution_count": 9,
   "metadata": {},
   "outputs": [
    {
     "data": {
      "image/png": "[encoded data removed]",
      "text/plain": [
       "<Figure size 720x576 with 4 Axes>"
      ]
     },
     "metadata": {
      "needs_background": "light"
     },
     "output_type": "display_data"
    }
   ],
   "source": [
    "fig, ax = plt.subplots(2,2, figsize=(10,8))\n",
    "try:\n",
    "    ax[0,0].hist(pars[:,0], bins=100)\n",
    "    ax[0,0].set_title('B0')\n",
    "except:\n",
    "    pass\n",
    "try:\n",
    "    ax[0,1].hist(pars[:,1], bins=100)\n",
    "    ax[0,1].set_title('B1')\n",
    "except:\n",
    "    pass\n",
    "try:\n",
    "    ax[1,0].hist(pars[:,2], bins=100)\n",
    "    ax[1,0].set_title('T1')\n",
    "except:\n",
    "    pass\n",
    "try:\n",
    "    ax[1,1].hist(pars[:,3], bins=100)\n",
    "    ax[1,1].set_title('T2')\n",
    "except:\n",
    "    pass\n",
    "plt.show()"
   ]
  },
  {
   "cell_type": "markdown",
   "metadata": {},
   "source": [
    "# Plot some random spectra"
   ]
  },
  {
   "cell_type": "code",
   "execution_count": 10,
   "metadata": {},
   "outputs": [
    {
     "data": {
      "image/png": "[encoded data removed]",
      "text/plain": [
       "<Figure size 432x288 with 1 Axes>"
      ]
     },
     "metadata": {
      "needs_background": "light"
     },
     "output_type": "display_data"
    }
   ],
   "source": [
    "n_spec = 10\n",
    "fig, ax = plt.subplots()\n",
    "for i in range(n_spec):\n",
    "    ax.plot(specs[i+10, 1:])\n",
    "    "
   ]
  },
  {
   "cell_type": "markdown",
   "metadata": {},
   "source": [
    "# Reshape & Save"
   ]
  },
  {
   "cell_type": "code",
   "execution_count": 11,
   "metadata": {},
   "outputs": [],
   "source": [
    "# reshape data and convert to pytorch tensor\n",
    "X = pytT(specs, dtype=pytFl32)\n",
    "y = pytT(pars, dtype=pytFl32)\n",
    "\n",
    "# save data with pytorch\n",
    "filepath_save_X = os.path.join(subfolder_path, f'{time.strftime(\"%Y%m%d\")}_X_{seq_name}{name_addition}.pt')\n",
    "filepath_save_y = os.path.join(subfolder_path, f'{time.strftime(\"%Y%m%d\")}_y_{seq_name}{name_addition}.pt')\n",
    "\n",
    "save (X, filepath_save_X)\n",
    "save (y, filepath_save_y)"
   ]
  },
  {
   "cell_type": "code",
   "execution_count": 12,
   "metadata": {},
   "outputs": [
    {
     "data": {
      "text/plain": [
       "(2097152, 4)"
      ]
     },
     "execution_count": 12,
     "metadata": {},
     "output_type": "execute_result"
    }
   ],
   "source": [
    "pars.shape"
   ]
  },
  {
   "cell_type": "markdown",
   "metadata": {},
   "source": [
    "# Save copy of notebook in output folder"
   ]
  },
  {
   "cell_type": "code",
   "execution_count": 13,
   "metadata": {},
   "outputs": [
    {
     "name": "stdout",
     "output_type": "stream",
     "text": [
      "Saved a copy of the current notebook in /data/schuen02/train_data/example_large/20211119_20210706_WASABITI_sweep12_sim_analytical.\n"
     ]
    }
   ],
   "source": [
    "from shutil import copy2\n",
    "\n",
    "current_notebook_name = 'create_data_sweep12.ipynb'\n",
    "current_notebook_path = os.path.dirname(os.path.realpath(\"__file__\"))\n",
    "\n",
    "try:\n",
    "    copy2(os.path.join(current_notebook_path, current_notebook_name),\n",
    "          os.path.join(subfolder_path, f'{time.strftime(\"%Y%m%d\")}_{seq_name}{name_addition}_create_data.ipynb'))\n",
    "    print(f'Saved a copy of the current notebook in {subfolder_path}.')\n",
    "except:\n",
    "    print(f'Copying {os.path.join(current_notebook_path, current_notebook_name)} to {subfolder_path} failed.')"
   ]
  },
  {
   "cell_type": "code",
   "execution_count": null,
   "metadata": {},
   "outputs": [],
   "source": []
  }
 ],
 "metadata": {
  "celltoolbar": "Attachments",
  "kernelspec": {
   "display_name": "Python 3 (ipykernel)",
   "language": "python",
   "name": "python3"
  },
  "language_info": {
   "codemirror_mode": {
    "name": "ipython",
    "version": 3
   },
   "file_extension": ".py",
   "mimetype": "text/x-python",
   "name": "python",
   "nbconvert_exporter": "python",
   "pygments_lexer": "ipython3",
   "version": "3.8.12"
  }
 },
 "nbformat": 4,
 "nbformat_minor": 4
}
