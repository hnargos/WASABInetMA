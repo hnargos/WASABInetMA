{
 "cells": [
  {
   "cell_type": "code",
   "execution_count": null,
   "metadata": {},
   "outputs": [],
   "source": [
    "# Standard library imports\n",
    "import sys\n",
    "import os\n",
    "import time\n",
    "import pickle\n",
    "import pathlib\n",
    "\n",
    "# Third party imports\n",
    "import yaml\n",
    "import numpy as np\n",
    "import matplotlib.pyplot as plt\n",
    "import subprocess\n",
    "import torch.cuda as cuda\n",
    "from mpl_toolkits.axes_grid1.axes_divider import make_axes_locatable\n",
    "\n",
    "# own scripts\n",
    "from data import Data\n",
    "from trainer import Trainer\n",
    "from auxiliary_functions import load_config\n",
    "from loss import GNLL\n",
    "from map_functions import export_phantom_maps, import_phantom_maps, mask_phantom_noise_fractions, get_discrete_colors"
   ]
  },
  {
   "cell_type": "markdown",
   "metadata": {},
   "source": [
    "# Eval Phantom"
   ]
  },
  {
   "cell_type": "code",
   "execution_count": null,
   "metadata": {
    "scrolled": true
   },
   "outputs": [],
   "source": [
    "# MANUAL DEFINITIONS\n",
    "\n",
    "# build maps or import maps?\n",
    "new_maps = True\n",
    "# save figures?\n",
    "save_figures = True\n",
    "\n",
    "# define filenames\n",
    "config_name = 'net_config_10_continuous_data'  # without file ending\n",
    "# config_name = 'net_config_2_grid_search_36'  # without file ending\n",
    "phantom_filename = '2021-02-01_thesis_phantom_rb1_01_18.p'  # .p pickle file"
   ]
  },
  {
   "cell_type": "code",
   "execution_count": null,
   "metadata": {
    "pycharm": {
     "name": "#%%\n"
    }
   },
   "outputs": [],
   "source": [
    "# AUTO DEFINITIONS AND LOADING\n",
    "\n",
    "map_filename = phantom_filename.replace('.p', '_' + config_name + '_maps.p')\n",
    "# load config file from path\n",
    "config = load_config(os.path.join('outputs', config_name, '{}.yaml'.format(config_name)))\n",
    "# crate data object\n",
    "data = Data()\n",
    "# load phantom data\n",
    "data.load_phantom(os.path.join('data', 'phantom', phantom_filename), config)\n",
    "# create trainings class create NN\n",
    "trainer = Trainer(data)\n",
    "\n",
    "# load latest NN model\n",
    "trainer.load_net(os.path.join('outputs', config_name, '{}_best_model_save.pt'.format(config_name)))"
   ]
  },
  {
   "cell_type": "code",
   "execution_count": null,
   "metadata": {
    "pycharm": {
     "name": "#%%\n"
    }
   },
   "outputs": [],
   "source": [
    "# evaluate numbers\n",
    "trainer.eval_wasabi()"
   ]
  },
  {
   "cell_type": "code",
   "execution_count": null,
   "metadata": {},
   "outputs": [],
   "source": [
    "# SAVE maps to pickle if new_maps is True, else LOAD\n",
    "if new_maps:\n",
    "    maps = export_phantom_maps(config, trainer, data, os.path.join('data', 'phantom', 'maps', map_filename))\n",
    "else:\n",
    "    maps = import_phantom_maps(os.path.join('data', 'phantom', 'maps', map_filename))"
   ]
  },
  {
   "cell_type": "code",
   "execution_count": null,
   "metadata": {
    "pycharm": {
     "name": "#%%\n"
    }
   },
   "outputs": [],
   "source": [
    "# relevant parameters from b0_shift, rel_b1, t1, t2\n",
    "params = [k for k in maps.keys() if not 'uncert' in k]"
   ]
  },
  {
   "cell_type": "code",
   "execution_count": null,
   "metadata": {
    "pycharm": {
     "name": "#%%\n"
    }
   },
   "outputs": [],
   "source": [
    "# calculate difference maps: reference - NN map\n",
    "diffs = {p: data.raw_data['phantom'][p] - maps[p] for p in params}"
   ]
  },
  {
   "cell_type": "code",
   "execution_count": null,
   "metadata": {
    "pycharm": {
     "name": "#%%\n"
    }
   },
   "outputs": [],
   "source": [
    "# PLOT references, NN maps, differences and uncertainties per parameter\n",
    "\n",
    "%matplotlib qt\n",
    "from mpl_toolkits.axes_grid1 import ImageGrid\n",
    "\n",
    "n_par = data.n_tgt_params\n",
    "n_col = 4\n",
    "\n",
    "fig = plt.figure(figsize=(19,13), facecolor='white')\n",
    "axs = ImageGrid(fig, 211,\n",
    "                nrows_ncols = (n_par, n_col),\n",
    "                 direction=\"row\",\n",
    "                 axes_pad = 0.12,\n",
    "                 add_all=True,\n",
    "                 label_mode = \"all\",\n",
    "                 share_all = False,\n",
    "                 cbar_location=\"right\",\n",
    "                 cbar_mode=\"edge\",\n",
    "                 cbar_size=\"10%\",\n",
    "                 cbar_pad=0.08\n",
    "                )\n",
    "fontsize = 10.5\n",
    "for i, param in enumerate(params):\n",
    "    if param == 'b0_shift':\n",
    "        name = 'b0_shift', '${\\Delta}$B$_0$'\n",
    "    elif param == 'b1_inhom':\n",
    "        param, name = 'b1_inhom', 'rel. B$_1$'\n",
    "    elif param == 't1':\n",
    "        param, name = 't1', 'T$_1$'\n",
    "    elif param == 't2':\n",
    "        param, name = 't2', 'T$_2$'\n",
    "\n",
    "    ref_map = data.raw_data['phantom'][param]\n",
    "    nn_map = maps[param]\n",
    "    nn_uncert = maps[param + '_uncert']\n",
    "    diff = diffs[param]\n",
    "    if param == 'b1_inhom':\n",
    "        ref_map = ref_map * 100\n",
    "        nn_map = nn_map * 100\n",
    "        nn_uncert = nn_uncert * 100\n",
    "        diff = diff * 100\n",
    "\n",
    "    ref_ = axs[i*n_col+0].imshow(ref_map)\n",
    "    axs[i*n_col+0].cax.colorbar(ref_)\n",
    "\n",
    "    clims = ref_.get_clim()\n",
    "\n",
    "    nn_ = axs[i*n_col+1].imshow(nn_map, clim=clims)\n",
    "    axs[i*n_col+1].cax.colorbar(nn_)\n",
    "\n",
    "    diff_ = axs[i*n_col+2].imshow(np.abs(diff)*10, clim=clims)\n",
    "    axs[i*n_col+2].cax.colorbar(diff_)\n",
    "\n",
    "    uncert_ = axs[i*n_col+3].imshow(nn_uncert*10, clim=clims)\n",
    "    axs[i*n_col+3].cax.colorbar(uncert_)\n",
    "\n",
    "axs[0].set_ylabel('${\\Delta}$B$_0$ [ppm]')\n",
    "axs[4].set_ylabel('rel. B$_1$ [%]')\n",
    "axs[8].set_ylabel('T$_1$ [s]')\n",
    "for i in [0, 4, 8]:\n",
    "    axs[i].yaxis.label.set_size(fontsize=fontsize)\n",
    "axs[0].set_title('Reference map', size=fontsize)\n",
    "axs[1].set_title('NN map', size=fontsize)\n",
    "axs[2].set_title('Difference (absx10)', size=fontsize)\n",
    "axs[3].set_title('Uncertainty (x10)', size=fontsize)\n",
    "\n",
    "axs.cbar_axes[0].set_yticks([-0.2, 0.0, 0.2])\n",
    "\n",
    "for ax in axs:\n",
    "    ax.set_xticks([])\n",
    "    ax.set_yticks([])\n",
    "    ax.spines['bottom'].set_color('w')\n",
    "    ax.spines['top'].set_color('w')\n",
    "    ax.spines['right'].set_color('w')\n",
    "    ax.spines['left'].set_color('w')\n",
    "\n",
    "if save_figures:\n",
    "    plt.suptitle(map_filename.replace('.p', ''))\n",
    "    plt.savefig(os.path.join('data', 'phantom', 'maps', 'figs', map_filename.replace('.p', '.png')), bbox_inches='tight', facecolor='white')\n",
    "plt.show()"
   ]
  },
  {
   "cell_type": "code",
   "execution_count": null,
   "metadata": {
    "pycharm": {
     "name": "#%%\n"
    }
   },
   "outputs": [],
   "source": [
    "# STATISTICAL CALCULATIONS\n",
    "\n",
    "# mask noise and fractions with zeros\n",
    "masked_diffs = {k: mask_phantom_noise_fractions(v, data) for k, v in diffs.items()}\n",
    "masked_diffs_nonzero = {k: v[np.nonzero(v)] for k, v in masked_diffs.items()}\n",
    "\n",
    "# calculate simple statistics\n",
    "mins = {k: np.min(v) for k, v in masked_diffs_nonzero.items()}\n",
    "maxs = {k: np.max(v) for k, v in masked_diffs_nonzero.items()}\n",
    "means = {k: np.mean(v) for k, v in masked_diffs_nonzero.items()}\n",
    "medians = {k: np.median(v) for k, v in masked_diffs_nonzero.items()}\n",
    "quantiles_25 = {k: np.quantile(v, 0.25) for k, v in masked_diffs_nonzero.items()}\n",
    "quantiles_75 = {k: np.quantile(v, 0.75) for k, v in masked_diffs_nonzero.items()}\n",
    "#calculate locations\n",
    "min_locs = {k: np.where(v == np.min(masked_diffs_nonzero[k])) for k, v in masked_diffs.items()}\n",
    "max_locs = {k: np.where(v == np.max(masked_diffs_nonzero[k])) for k, v in masked_diffs.items()}\n",
    "lowest_locs = {k: np.where(mask_phantom_noise_fractions(v, data) < quantiles_25[k]) for k, v in diffs.items()}\n",
    "highest_locs = {k: np.where(mask_phantom_noise_fractions(v, data) > quantiles_75[k]) for k, v in diffs.items()}\n",
    "other_locs = {k: np.where(np.logical_and(mask_phantom_noise_fractions(v, data) < quantiles_75[k], mask_phantom_noise_fractions(v, data) > quantiles_25[k])) for k, v in diffs.items()}\n"
   ]
  },
  {
   "cell_type": "code",
   "execution_count": null,
   "metadata": {
    "pycharm": {
     "name": "#%%\n"
    }
   },
   "outputs": [],
   "source": [
    "# PLOT DIFFERENCE HISTOGRAMS\n",
    "\n",
    "colors = get_discrete_colors(len(params))\n",
    "fig, ax = plt.subplots(len(params))\n",
    "for i in range(len(params)):\n",
    "    ax[i].hist(masked_diffs_nonzero[params[i]], bins='auto', color=colors[i])  # arguments are passed to np.histogram\n",
    "    ax[i].set_xlabel(params[i] + ' diff (min: ' + str(round(mins[params[i]], 3)) + ', mean: ' + str(round(means[params[i]], 3)) + ', max: ' + str(round(maxs[params[i]], 3)) + ')')\n",
    "    ax[i].set_ylabel('n')\n",
    "# ax[2].set_xlim((-0.15, 0.15))\n",
    "plt.show()\n",
    "if save_figures:\n",
    "    plt.suptitle(map_filename.replace('.p', ''))\n",
    "    plt.tight_layout()\n",
    "    plt.savefig(os.path.join('data', 'phantom', 'figs', map_filename.replace('.p', '_diffs_hist.png')), facecolor='white')"
   ]
  },
  {
   "cell_type": "code",
   "execution_count": null,
   "metadata": {
    "pycharm": {
     "name": "#%%\n"
    }
   },
   "outputs": [],
   "source": [
    "# PLOT SCATTER\n",
    "\n",
    "fig, axs = plt.subplots(len(params))\n",
    "ticks = {'b0_shift': [-0.02, -0.01, 0, 0.01, 0.02],\n",
    "         'b1_inhom': [-0.015, -0.01, -0.005, 0, 0.005, 0.01, 0.015],\n",
    "         't1': [-0.3, -0.15, 0, 0.15, 0.3],\n",
    "         't2': [-3, -1.5, 0, 1.5]\n",
    "         }\n",
    "lims = {'b0_shift': (-0.025, 0.025),\n",
    "         'b1_inhom': (-0.015, 0.015),\n",
    "         't1': (-0.4, 0.4),\n",
    "         't2': (-3, 1.5)\n",
    "         }\n",
    "colors = get_discrete_colors(3)\n",
    "for i, p in enumerate(params):\n",
    "    axs[i].scatter(data.raw_data['phantom'][p][lowest_locs[p]], diffs[p][lowest_locs[p]], color=colors[0], s=2)\n",
    "    axs[i].scatter(data.raw_data['phantom'][p][highest_locs[p]], diffs[p][highest_locs[p]], color=colors[2], s=2)\n",
    "    axs[i].scatter(data.raw_data['phantom'][p][other_locs[p]], diffs[p][other_locs[p]], color=colors[1], s=2)\n",
    "    xmin = np.min([data.raw_data['phantom'][p][np.nonzero(data.raw_data['phantom'][p])]])*0.95\n",
    "    xmax = np.max([data.raw_data['phantom'][p][np.nonzero(data.raw_data['phantom'][p])]])*1.05\n",
    "    axs[i].set_xlim((xmin, xmax))\n",
    "    axs[i].set_ylim(lims[p])\n",
    "    axs[i].set_ylabel('diffs')\n",
    "    axs[i].set_xlabel(p)\n",
    "    axs[i].set_yticks(ticks[p])\n",
    "    # axs[i].grid('both')\n",
    "plt.show()\n",
    "if save_figures:\n",
    "    plt.suptitle(map_filename.replace('.p', ''))\n",
    "    plt.tight_layout()\n",
    "    plt.savefig(os.path.join('data', 'phantom', 'figs', map_filename.replace('.p', '_diffs_scatter_xlim.png')), facecolor='white')"
   ]
  },
  {
   "cell_type": "code",
   "execution_count": null,
   "metadata": {
    "pycharm": {
     "name": "#%%\n"
    }
   },
   "outputs": [],
   "source": []
  }
 ],
 "metadata": {
  "kernelspec": {
   "display_name": "Python 3",
   "language": "python",
   "name": "python3"
  },
  "language_info": {
   "codemirror_mode": {
    "name": "ipython",
    "version": 3
   },
   "file_extension": ".py",
   "mimetype": "text/x-python",
   "name": "python",
   "nbconvert_exporter": "python",
   "pygments_lexer": "ipython3",
   "version": "3.8.5"
  }
 },
 "nbformat": 4,
 "nbformat_minor": 4
}
